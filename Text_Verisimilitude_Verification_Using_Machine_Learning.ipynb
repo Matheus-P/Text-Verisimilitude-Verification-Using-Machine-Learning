{
  "nbformat": 4,
  "nbformat_minor": 0,
  "metadata": {
    "colab": {
      "name": "Text-Verisimilitude-Verification-Using-Machine-Learning.ipynb",
      "provenance": [],
      "collapsed_sections": [
        "b5AxSQNPjo7o",
        "ZMgGh-mJjtG4",
        "BA3UAiYQJBzo",
        "_uKoDMdfJIBd",
        "l4SxMoikJGNY"
      ],
      "authorship_tag": "ABX9TyOpkc/biF+JLftoz/y0KLdF",
      "include_colab_link": true
    },
    "kernelspec": {
      "name": "python3",
      "display_name": "Python 3"
    },
    "language_info": {
      "name": "python"
    }
  },
  "cells": [
    {
      "cell_type": "markdown",
      "metadata": {
        "id": "view-in-github",
        "colab_type": "text"
      },
      "source": [
        "<a href=\"https://colab.research.google.com/github/Matheus-P/Text-Verisimilitude-Verification-Using-Machine-Learning/blob/main/Text_Verisimilitude_Verification_Using_Machine_Learning.ipynb\" target=\"_parent\"><img src=\"https://colab.research.google.com/assets/colab-badge.svg\" alt=\"Open In Colab\"/></a>"
      ]
    },
    {
      "cell_type": "code",
      "metadata": {
        "colab": {
          "base_uri": "https://localhost:8080/"
        },
        "id": "hNM4N1UMVZiD",
        "outputId": "7fe36796-118a-4f46-8033-1afbc1bccd0e"
      },
      "source": [
        "from google.colab import drive\n",
        "\n",
        "drive.mount('/content/drive')"
      ],
      "execution_count": null,
      "outputs": [
        {
          "output_type": "stream",
          "name": "stdout",
          "text": [
            "Mounted at /content/drive\n"
          ]
        }
      ]
    },
    {
      "cell_type": "markdown",
      "metadata": {
        "id": "b5AxSQNPjo7o"
      },
      "source": [
        "# Imports"
      ]
    },
    {
      "cell_type": "code",
      "metadata": {
        "id": "BmD2s7M2ggbJ",
        "colab": {
          "base_uri": "https://localhost:8080/"
        },
        "outputId": "9d672682-3444-44b6-bac1-290ef3819208"
      },
      "source": [
        "import csv\n",
        "import pandas as pd\n",
        "import numpy as np\n",
        "import time\n",
        "import math\n",
        "import os\n",
        "import io\n",
        "import sys\n",
        "import imp\n",
        "import torch\n",
        "from torch.nn import Linear, ReLU, CrossEntropyLoss, L1Loss, Sequential, Conv2d, MaxPool2d, Module\n",
        "from torch.optim import Adam\n",
        "\n",
        "import matplotlib.pyplot as plt\n",
        "\n",
        "sys.path.append('/content/drive/MyDrive/Colab Notebooks/TCC/word_language_model')\n",
        "\n",
        "import data\n",
        "\n",
        "! pip install pytorch_pretrained_bert transformers"
      ],
      "execution_count": null,
      "outputs": [
        {
          "output_type": "stream",
          "name": "stdout",
          "text": [
            "Collecting pytorch_pretrained_bert\n",
            "  Downloading pytorch_pretrained_bert-0.6.2-py3-none-any.whl (123 kB)\n",
            "\u001b[K     |████████████████████████████████| 123 kB 5.2 MB/s \n",
            "\u001b[?25hCollecting transformers\n",
            "  Downloading transformers-4.11.3-py3-none-any.whl (2.9 MB)\n",
            "\u001b[K     |████████████████████████████████| 2.9 MB 26.1 MB/s \n",
            "\u001b[?25hRequirement already satisfied: requests in /usr/local/lib/python3.7/dist-packages (from pytorch_pretrained_bert) (2.23.0)\n",
            "Requirement already satisfied: tqdm in /usr/local/lib/python3.7/dist-packages (from pytorch_pretrained_bert) (4.62.3)\n",
            "Collecting boto3\n",
            "  Downloading boto3-1.18.65-py3-none-any.whl (131 kB)\n",
            "\u001b[K     |████████████████████████████████| 131 kB 64.1 MB/s \n",
            "\u001b[?25hRequirement already satisfied: regex in /usr/local/lib/python3.7/dist-packages (from pytorch_pretrained_bert) (2019.12.20)\n",
            "Requirement already satisfied: numpy in /usr/local/lib/python3.7/dist-packages (from pytorch_pretrained_bert) (1.19.5)\n",
            "Requirement already satisfied: torch>=0.4.1 in /usr/local/lib/python3.7/dist-packages (from pytorch_pretrained_bert) (1.9.0+cu111)\n",
            "Requirement already satisfied: typing-extensions in /usr/local/lib/python3.7/dist-packages (from torch>=0.4.1->pytorch_pretrained_bert) (3.7.4.3)\n",
            "Requirement already satisfied: packaging>=20.0 in /usr/local/lib/python3.7/dist-packages (from transformers) (21.0)\n",
            "Requirement already satisfied: filelock in /usr/local/lib/python3.7/dist-packages (from transformers) (3.3.0)\n",
            "Collecting huggingface-hub>=0.0.17\n",
            "  Downloading huggingface_hub-0.0.19-py3-none-any.whl (56 kB)\n",
            "\u001b[K     |████████████████████████████████| 56 kB 2.2 MB/s \n",
            "\u001b[?25hCollecting tokenizers<0.11,>=0.10.1\n",
            "  Downloading tokenizers-0.10.3-cp37-cp37m-manylinux_2_5_x86_64.manylinux1_x86_64.manylinux_2_12_x86_64.manylinux2010_x86_64.whl (3.3 MB)\n",
            "\u001b[K     |████████████████████████████████| 3.3 MB 52.0 MB/s \n",
            "\u001b[?25hCollecting sacremoses\n",
            "  Downloading sacremoses-0.0.46-py3-none-any.whl (895 kB)\n",
            "\u001b[K     |████████████████████████████████| 895 kB 52.1 MB/s \n",
            "\u001b[?25hRequirement already satisfied: importlib-metadata in /usr/local/lib/python3.7/dist-packages (from transformers) (4.8.1)\n",
            "Collecting pyyaml>=5.1\n",
            "  Downloading PyYAML-6.0-cp37-cp37m-manylinux_2_5_x86_64.manylinux1_x86_64.manylinux_2_12_x86_64.manylinux2010_x86_64.whl (596 kB)\n",
            "\u001b[K     |████████████████████████████████| 596 kB 53.4 MB/s \n",
            "\u001b[?25hRequirement already satisfied: pyparsing>=2.0.2 in /usr/local/lib/python3.7/dist-packages (from packaging>=20.0->transformers) (2.4.7)\n",
            "Collecting jmespath<1.0.0,>=0.7.1\n",
            "  Downloading jmespath-0.10.0-py2.py3-none-any.whl (24 kB)\n",
            "Collecting botocore<1.22.0,>=1.21.65\n",
            "  Downloading botocore-1.21.65-py3-none-any.whl (8.0 MB)\n",
            "\u001b[K     |████████████████████████████████| 8.0 MB 22.5 MB/s \n",
            "\u001b[?25hCollecting s3transfer<0.6.0,>=0.5.0\n",
            "  Downloading s3transfer-0.5.0-py3-none-any.whl (79 kB)\n",
            "\u001b[K     |████████████████████████████████| 79 kB 6.8 MB/s \n",
            "\u001b[?25hRequirement already satisfied: python-dateutil<3.0.0,>=2.1 in /usr/local/lib/python3.7/dist-packages (from botocore<1.22.0,>=1.21.65->boto3->pytorch_pretrained_bert) (2.8.2)\n",
            "Collecting urllib3<1.27,>=1.25.4\n",
            "  Downloading urllib3-1.26.7-py2.py3-none-any.whl (138 kB)\n",
            "\u001b[K     |████████████████████████████████| 138 kB 69.0 MB/s \n",
            "\u001b[?25hRequirement already satisfied: six>=1.5 in /usr/local/lib/python3.7/dist-packages (from python-dateutil<3.0.0,>=2.1->botocore<1.22.0,>=1.21.65->boto3->pytorch_pretrained_bert) (1.15.0)\n",
            "Requirement already satisfied: zipp>=0.5 in /usr/local/lib/python3.7/dist-packages (from importlib-metadata->transformers) (3.6.0)\n",
            "Requirement already satisfied: idna<3,>=2.5 in /usr/local/lib/python3.7/dist-packages (from requests->pytorch_pretrained_bert) (2.10)\n",
            "  Downloading urllib3-1.25.11-py2.py3-none-any.whl (127 kB)\n",
            "\u001b[K     |████████████████████████████████| 127 kB 61.5 MB/s \n",
            "\u001b[?25hRequirement already satisfied: chardet<4,>=3.0.2 in /usr/local/lib/python3.7/dist-packages (from requests->pytorch_pretrained_bert) (3.0.4)\n",
            "Requirement already satisfied: certifi>=2017.4.17 in /usr/local/lib/python3.7/dist-packages (from requests->pytorch_pretrained_bert) (2021.5.30)\n",
            "Requirement already satisfied: joblib in /usr/local/lib/python3.7/dist-packages (from sacremoses->transformers) (1.0.1)\n",
            "Requirement already satisfied: click in /usr/local/lib/python3.7/dist-packages (from sacremoses->transformers) (7.1.2)\n",
            "Installing collected packages: urllib3, jmespath, botocore, s3transfer, pyyaml, tokenizers, sacremoses, huggingface-hub, boto3, transformers, pytorch-pretrained-bert\n",
            "  Attempting uninstall: urllib3\n",
            "    Found existing installation: urllib3 1.24.3\n",
            "    Uninstalling urllib3-1.24.3:\n",
            "      Successfully uninstalled urllib3-1.24.3\n",
            "  Attempting uninstall: pyyaml\n",
            "    Found existing installation: PyYAML 3.13\n",
            "    Uninstalling PyYAML-3.13:\n",
            "      Successfully uninstalled PyYAML-3.13\n",
            "\u001b[31mERROR: pip's dependency resolver does not currently take into account all the packages that are installed. This behaviour is the source of the following dependency conflicts.\n",
            "datascience 0.10.6 requires folium==0.2.1, but you have folium 0.8.3 which is incompatible.\u001b[0m\n",
            "Successfully installed boto3-1.18.65 botocore-1.21.65 huggingface-hub-0.0.19 jmespath-0.10.0 pytorch-pretrained-bert-0.6.2 pyyaml-6.0 s3transfer-0.5.0 sacremoses-0.0.46 tokenizers-0.10.3 transformers-4.11.3 urllib3-1.25.11\n"
          ]
        }
      ]
    },
    {
      "cell_type": "code",
      "metadata": {
        "id": "DD6I9_PaoxC1"
      },
      "source": [
        "device = torch.device(\"cuda\" if torch.cuda.is_available() else \"cpu\")"
      ],
      "execution_count": null,
      "outputs": []
    },
    {
      "cell_type": "markdown",
      "metadata": {
        "id": "ZMgGh-mJjtG4"
      },
      "source": [
        "# Text Generation"
      ]
    },
    {
      "cell_type": "code",
      "metadata": {
        "colab": {
          "base_uri": "https://localhost:8080/"
        },
        "id": "l7zcIbb1S4Cr",
        "outputId": "96c4671c-d310-4eb1-8a52-36a0c53d0eb0"
      },
      "source": [
        "! pip install -r /content/drive/MyDrive/Colab\\ Notebooks/TCC/text-generation/requirements.txt"
      ],
      "execution_count": null,
      "outputs": [
        {
          "output_type": "stream",
          "name": "stdout",
          "text": [
            "Collecting sentencepiece!=0.1.92\n",
            "  Downloading sentencepiece-0.1.96-cp37-cp37m-manylinux_2_17_x86_64.manylinux2014_x86_64.whl (1.2 MB)\n",
            "\u001b[?25l\r\u001b[K     |▎                               | 10 kB 26.1 MB/s eta 0:00:01\r\u001b[K     |▌                               | 20 kB 9.1 MB/s eta 0:00:01\r\u001b[K     |▉                               | 30 kB 7.7 MB/s eta 0:00:01\r\u001b[K     |█                               | 40 kB 7.2 MB/s eta 0:00:01\r\u001b[K     |█▍                              | 51 kB 3.8 MB/s eta 0:00:01\r\u001b[K     |█▋                              | 61 kB 4.1 MB/s eta 0:00:01\r\u001b[K     |██                              | 71 kB 4.1 MB/s eta 0:00:01\r\u001b[K     |██▏                             | 81 kB 4.6 MB/s eta 0:00:01\r\u001b[K     |██▍                             | 92 kB 4.8 MB/s eta 0:00:01\r\u001b[K     |██▊                             | 102 kB 3.8 MB/s eta 0:00:01\r\u001b[K     |███                             | 112 kB 3.8 MB/s eta 0:00:01\r\u001b[K     |███▎                            | 122 kB 3.8 MB/s eta 0:00:01\r\u001b[K     |███▌                            | 133 kB 3.8 MB/s eta 0:00:01\r\u001b[K     |███▉                            | 143 kB 3.8 MB/s eta 0:00:01\r\u001b[K     |████                            | 153 kB 3.8 MB/s eta 0:00:01\r\u001b[K     |████▎                           | 163 kB 3.8 MB/s eta 0:00:01\r\u001b[K     |████▋                           | 174 kB 3.8 MB/s eta 0:00:01\r\u001b[K     |████▉                           | 184 kB 3.8 MB/s eta 0:00:01\r\u001b[K     |█████▏                          | 194 kB 3.8 MB/s eta 0:00:01\r\u001b[K     |█████▍                          | 204 kB 3.8 MB/s eta 0:00:01\r\u001b[K     |█████▊                          | 215 kB 3.8 MB/s eta 0:00:01\r\u001b[K     |██████                          | 225 kB 3.8 MB/s eta 0:00:01\r\u001b[K     |██████▏                         | 235 kB 3.8 MB/s eta 0:00:01\r\u001b[K     |██████▌                         | 245 kB 3.8 MB/s eta 0:00:01\r\u001b[K     |██████▊                         | 256 kB 3.8 MB/s eta 0:00:01\r\u001b[K     |███████                         | 266 kB 3.8 MB/s eta 0:00:01\r\u001b[K     |███████▎                        | 276 kB 3.8 MB/s eta 0:00:01\r\u001b[K     |███████▋                        | 286 kB 3.8 MB/s eta 0:00:01\r\u001b[K     |███████▉                        | 296 kB 3.8 MB/s eta 0:00:01\r\u001b[K     |████████                        | 307 kB 3.8 MB/s eta 0:00:01\r\u001b[K     |████████▍                       | 317 kB 3.8 MB/s eta 0:00:01\r\u001b[K     |████████▋                       | 327 kB 3.8 MB/s eta 0:00:01\r\u001b[K     |█████████                       | 337 kB 3.8 MB/s eta 0:00:01\r\u001b[K     |█████████▏                      | 348 kB 3.8 MB/s eta 0:00:01\r\u001b[K     |█████████▌                      | 358 kB 3.8 MB/s eta 0:00:01\r\u001b[K     |█████████▊                      | 368 kB 3.8 MB/s eta 0:00:01\r\u001b[K     |██████████                      | 378 kB 3.8 MB/s eta 0:00:01\r\u001b[K     |██████████▎                     | 389 kB 3.8 MB/s eta 0:00:01\r\u001b[K     |██████████▌                     | 399 kB 3.8 MB/s eta 0:00:01\r\u001b[K     |██████████▉                     | 409 kB 3.8 MB/s eta 0:00:01\r\u001b[K     |███████████                     | 419 kB 3.8 MB/s eta 0:00:01\r\u001b[K     |███████████▍                    | 430 kB 3.8 MB/s eta 0:00:01\r\u001b[K     |███████████▋                    | 440 kB 3.8 MB/s eta 0:00:01\r\u001b[K     |███████████▉                    | 450 kB 3.8 MB/s eta 0:00:01\r\u001b[K     |████████████▏                   | 460 kB 3.8 MB/s eta 0:00:01\r\u001b[K     |████████████▍                   | 471 kB 3.8 MB/s eta 0:00:01\r\u001b[K     |████████████▊                   | 481 kB 3.8 MB/s eta 0:00:01\r\u001b[K     |█████████████                   | 491 kB 3.8 MB/s eta 0:00:01\r\u001b[K     |█████████████▎                  | 501 kB 3.8 MB/s eta 0:00:01\r\u001b[K     |█████████████▌                  | 512 kB 3.8 MB/s eta 0:00:01\r\u001b[K     |█████████████▊                  | 522 kB 3.8 MB/s eta 0:00:01\r\u001b[K     |██████████████                  | 532 kB 3.8 MB/s eta 0:00:01\r\u001b[K     |██████████████▎                 | 542 kB 3.8 MB/s eta 0:00:01\r\u001b[K     |██████████████▋                 | 552 kB 3.8 MB/s eta 0:00:01\r\u001b[K     |██████████████▉                 | 563 kB 3.8 MB/s eta 0:00:01\r\u001b[K     |███████████████▏                | 573 kB 3.8 MB/s eta 0:00:01\r\u001b[K     |███████████████▍                | 583 kB 3.8 MB/s eta 0:00:01\r\u001b[K     |███████████████▋                | 593 kB 3.8 MB/s eta 0:00:01\r\u001b[K     |████████████████                | 604 kB 3.8 MB/s eta 0:00:01\r\u001b[K     |████████████████▏               | 614 kB 3.8 MB/s eta 0:00:01\r\u001b[K     |████████████████▌               | 624 kB 3.8 MB/s eta 0:00:01\r\u001b[K     |████████████████▊               | 634 kB 3.8 MB/s eta 0:00:01\r\u001b[K     |█████████████████               | 645 kB 3.8 MB/s eta 0:00:01\r\u001b[K     |█████████████████▎              | 655 kB 3.8 MB/s eta 0:00:01\r\u001b[K     |█████████████████▌              | 665 kB 3.8 MB/s eta 0:00:01\r\u001b[K     |█████████████████▉              | 675 kB 3.8 MB/s eta 0:00:01\r\u001b[K     |██████████████████              | 686 kB 3.8 MB/s eta 0:00:01\r\u001b[K     |██████████████████▍             | 696 kB 3.8 MB/s eta 0:00:01\r\u001b[K     |██████████████████▋             | 706 kB 3.8 MB/s eta 0:00:01\r\u001b[K     |███████████████████             | 716 kB 3.8 MB/s eta 0:00:01\r\u001b[K     |███████████████████▏            | 727 kB 3.8 MB/s eta 0:00:01\r\u001b[K     |███████████████████▍            | 737 kB 3.8 MB/s eta 0:00:01\r\u001b[K     |███████████████████▊            | 747 kB 3.8 MB/s eta 0:00:01\r\u001b[K     |████████████████████            | 757 kB 3.8 MB/s eta 0:00:01\r\u001b[K     |████████████████████▎           | 768 kB 3.8 MB/s eta 0:00:01\r\u001b[K     |████████████████████▌           | 778 kB 3.8 MB/s eta 0:00:01\r\u001b[K     |████████████████████▉           | 788 kB 3.8 MB/s eta 0:00:01\r\u001b[K     |█████████████████████           | 798 kB 3.8 MB/s eta 0:00:01\r\u001b[K     |█████████████████████▎          | 808 kB 3.8 MB/s eta 0:00:01\r\u001b[K     |█████████████████████▋          | 819 kB 3.8 MB/s eta 0:00:01\r\u001b[K     |█████████████████████▉          | 829 kB 3.8 MB/s eta 0:00:01\r\u001b[K     |██████████████████████▏         | 839 kB 3.8 MB/s eta 0:00:01\r\u001b[K     |██████████████████████▍         | 849 kB 3.8 MB/s eta 0:00:01\r\u001b[K     |██████████████████████▊         | 860 kB 3.8 MB/s eta 0:00:01\r\u001b[K     |███████████████████████         | 870 kB 3.8 MB/s eta 0:00:01\r\u001b[K     |███████████████████████▏        | 880 kB 3.8 MB/s eta 0:00:01\r\u001b[K     |███████████████████████▌        | 890 kB 3.8 MB/s eta 0:00:01\r\u001b[K     |███████████████████████▊        | 901 kB 3.8 MB/s eta 0:00:01\r\u001b[K     |████████████████████████        | 911 kB 3.8 MB/s eta 0:00:01\r\u001b[K     |████████████████████████▎       | 921 kB 3.8 MB/s eta 0:00:01\r\u001b[K     |████████████████████████▋       | 931 kB 3.8 MB/s eta 0:00:01\r\u001b[K     |████████████████████████▉       | 942 kB 3.8 MB/s eta 0:00:01\r\u001b[K     |█████████████████████████       | 952 kB 3.8 MB/s eta 0:00:01\r\u001b[K     |█████████████████████████▍      | 962 kB 3.8 MB/s eta 0:00:01\r\u001b[K     |█████████████████████████▋      | 972 kB 3.8 MB/s eta 0:00:01\r\u001b[K     |██████████████████████████      | 983 kB 3.8 MB/s eta 0:00:01\r\u001b[K     |██████████████████████████▏     | 993 kB 3.8 MB/s eta 0:00:01\r\u001b[K     |██████████████████████████▌     | 1.0 MB 3.8 MB/s eta 0:00:01\r\u001b[K     |██████████████████████████▊     | 1.0 MB 3.8 MB/s eta 0:00:01\r\u001b[K     |███████████████████████████     | 1.0 MB 3.8 MB/s eta 0:00:01\r\u001b[K     |███████████████████████████▎    | 1.0 MB 3.8 MB/s eta 0:00:01\r\u001b[K     |███████████████████████████▌    | 1.0 MB 3.8 MB/s eta 0:00:01\r\u001b[K     |███████████████████████████▉    | 1.1 MB 3.8 MB/s eta 0:00:01\r\u001b[K     |████████████████████████████    | 1.1 MB 3.8 MB/s eta 0:00:01\r\u001b[K     |████████████████████████████▍   | 1.1 MB 3.8 MB/s eta 0:00:01\r\u001b[K     |████████████████████████████▋   | 1.1 MB 3.8 MB/s eta 0:00:01\r\u001b[K     |████████████████████████████▉   | 1.1 MB 3.8 MB/s eta 0:00:01\r\u001b[K     |█████████████████████████████▏  | 1.1 MB 3.8 MB/s eta 0:00:01\r\u001b[K     |█████████████████████████████▍  | 1.1 MB 3.8 MB/s eta 0:00:01\r\u001b[K     |█████████████████████████████▊  | 1.1 MB 3.8 MB/s eta 0:00:01\r\u001b[K     |██████████████████████████████  | 1.1 MB 3.8 MB/s eta 0:00:01\r\u001b[K     |██████████████████████████████▎ | 1.1 MB 3.8 MB/s eta 0:00:01\r\u001b[K     |██████████████████████████████▌ | 1.2 MB 3.8 MB/s eta 0:00:01\r\u001b[K     |██████████████████████████████▊ | 1.2 MB 3.8 MB/s eta 0:00:01\r\u001b[K     |███████████████████████████████ | 1.2 MB 3.8 MB/s eta 0:00:01\r\u001b[K     |███████████████████████████████▎| 1.2 MB 3.8 MB/s eta 0:00:01\r\u001b[K     |███████████████████████████████▋| 1.2 MB 3.8 MB/s eta 0:00:01\r\u001b[K     |███████████████████████████████▉| 1.2 MB 3.8 MB/s eta 0:00:01\r\u001b[K     |████████████████████████████████| 1.2 MB 3.8 MB/s \n",
            "\u001b[?25hRequirement already satisfied: protobuf in /usr/local/lib/python3.7/dist-packages (from -r /content/drive/MyDrive/Colab Notebooks/TCC/text-generation/requirements.txt (line 2)) (3.17.3)\n",
            "Requirement already satisfied: torch>=1.3 in /usr/local/lib/python3.7/dist-packages (from -r /content/drive/MyDrive/Colab Notebooks/TCC/text-generation/requirements.txt (line 3)) (1.9.0+cu111)\n",
            "Requirement already satisfied: typing-extensions in /usr/local/lib/python3.7/dist-packages (from torch>=1.3->-r /content/drive/MyDrive/Colab Notebooks/TCC/text-generation/requirements.txt (line 3)) (3.7.4.3)\n",
            "Requirement already satisfied: six>=1.9 in /usr/local/lib/python3.7/dist-packages (from protobuf->-r /content/drive/MyDrive/Colab Notebooks/TCC/text-generation/requirements.txt (line 2)) (1.15.0)\n",
            "Installing collected packages: sentencepiece\n",
            "Successfully installed sentencepiece-0.1.96\n"
          ]
        }
      ]
    },
    {
      "cell_type": "code",
      "metadata": {
        "id": "te9JtVC1ZNQm"
      },
      "source": [
        "for i in range(1,1000):\n",
        "  print(f\"run number {i}\")\n",
        "  tstring = corpus.dictionary.idx2word[np.random.randint(0,len(corpus.dictionary.idx2word))]\n",
        "  !python /content/drive/MyDrive/Colab\\ Notebooks/TCC/text-generation/run_generation.py --length 700 --prompt $tstring --num_return_sequences 10 >> $bash_path/test_out.txt"
      ],
      "execution_count": null,
      "outputs": []
    },
    {
      "cell_type": "code",
      "metadata": {
        "id": "HgNq7CiLSspa"
      },
      "source": [
        "with open(path+'/data/wikitext-2/test_out.txt','r') as f:\n",
        "  data = f.read()\n",
        "\n",
        "data = data.replace('<|endoftext|>','')\n",
        "\n",
        "with open(path+'/data/wikitext-2/out.txt','w') as f:\n",
        "  f.write(data)"
      ],
      "execution_count": null,
      "outputs": []
    },
    {
      "cell_type": "code",
      "metadata": {
        "id": "KgiutFIY5xCp"
      },
      "source": [
        "data = data.replace('<|endoftext|>','')"
      ],
      "execution_count": null,
      "outputs": []
    },
    {
      "cell_type": "code",
      "metadata": {
        "id": "Scmr6G_fZ-bq"
      },
      "source": [
        "with open(path+'/data/wikitext-2/out.txt','w') as f:\n",
        "  f.write(data)"
      ],
      "execution_count": null,
      "outputs": []
    },
    {
      "cell_type": "code",
      "metadata": {
        "colab": {
          "base_uri": "https://localhost:8080/"
        },
        "id": "evGtfpyAdCdr",
        "outputId": "3ccb6621-3aa3-4c0a-c1e7-f579c517d339"
      },
      "source": [
        "sum(1 for line in open(path+'/data/wikitext-2/out.txt'))"
      ],
      "execution_count": null,
      "outputs": [
        {
          "output_type": "execute_result",
          "data": {
            "text/plain": [
              "275524"
            ]
          },
          "metadata": {},
          "execution_count": 24
        }
      ]
    },
    {
      "cell_type": "code",
      "metadata": {
        "id": "U2XD3n5hiqj-"
      },
      "source": [
        "tr = open(path+'/data/wikitext-2/out_train.txt','x')\n",
        "te = open(path+'/data/wikitext-2/out_test.txt','x')\n",
        "va = open(path+'/data/wikitext-2/out_valid.txt','x')\n",
        "\n",
        "count = 0\n",
        "\n",
        "for line in open(path+'/data/wikitext-2/out.txt'):\n",
        "  count += 1\n",
        "  if count <= 220419:\n",
        "    tr.write(line)\n",
        "  elif (count > 220419 and count <= 247971):\n",
        "    te.write(line)\n",
        "  else:\n",
        "    va.write(line)\n",
        "\n",
        "tr.close()\n",
        "te.close()\n",
        "va.close()"
      ],
      "execution_count": null,
      "outputs": []
    },
    {
      "cell_type": "markdown",
      "metadata": {
        "id": "BA3UAiYQJBzo"
      },
      "source": [
        "# Model 1 (SC-Net)"
      ]
    },
    {
      "cell_type": "code",
      "metadata": {
        "id": "Nuy6OqVHPcAC"
      },
      "source": [
        "path = '/content/drive/MyDrive/Colab Notebooks/TCC/word_language_model'\n",
        "bash_path = '/content/drive/MyDrive/Colab\\ Notebooks/TCC/word_language_model'"
      ],
      "execution_count": null,
      "outputs": []
    },
    {
      "cell_type": "code",
      "metadata": {
        "id": "s7ZoQgpkPnhh"
      },
      "source": [
        "! python $bash_path/main.py --nlayers 1 --data $bash_path/data/wikitext-2/ --epochs 3 --save $bash_path/saved/gru.pt"
      ],
      "execution_count": null,
      "outputs": []
    },
    {
      "cell_type": "code",
      "metadata": {
        "id": "pwNI1gO9cSTH"
      },
      "source": [
        "GRUmodel = torch.load(path+'/saved/gru.pt',map_location=torch.device('cpu'))"
      ],
      "execution_count": null,
      "outputs": []
    },
    {
      "cell_type": "code",
      "metadata": {
        "colab": {
          "base_uri": "https://localhost:8080/"
        },
        "id": "571Knfb8jwu-",
        "outputId": "6629d70e-359a-4734-b7cd-ca33f26c7cdb"
      },
      "source": [
        "for param in GRUmodel.state_dict():\n",
        "    print(param)"
      ],
      "execution_count": null,
      "outputs": [
        {
          "output_type": "stream",
          "name": "stdout",
          "text": [
            "embed.weight\n",
            "gru.weight_ih_l0\n",
            "gru.weight_hh_l0\n",
            "gru.bias_ih_l0\n",
            "gru.bias_hh_l0\n",
            "gru.weight_ih_l0_reverse\n",
            "gru.weight_hh_l0_reverse\n",
            "gru.bias_ih_l0_reverse\n",
            "gru.bias_hh_l0_reverse\n",
            "out.weight\n",
            "out.bias\n"
          ]
        }
      ]
    },
    {
      "cell_type": "code",
      "metadata": {
        "id": "6zn1lIMJjBnY"
      },
      "source": [
        "class CNN(Module):   \n",
        "    def __init__(self):\n",
        "        super(CNN, self).__init__()\n",
        "\n",
        "        self.cnn_layers = Sequential(\n",
        "            # Defining a 2D convolution layer\n",
        "            Conv2d(1, 1, kernel_size=3, stride=1, padding=1),\n",
        "            ReLU(inplace=True),\n",
        "            MaxPool2d(kernel_size=(600,1), stride=1),\n",
        "        )\n",
        "\n",
        "        self.linear_layers = Sequential(\n",
        "            Linear(400, 2)\n",
        "        )\n",
        "\n",
        "    # Defining the forward pass\n",
        "    def forward(self, x):\n",
        "        x = self.cnn_layers(x).to(device)\n",
        "        #x = x.view(x.size(0), -1)\n",
        "        x = self.linear_layers(x)\n",
        "        return x"
      ],
      "execution_count": null,
      "outputs": []
    },
    {
      "cell_type": "code",
      "metadata": {
        "colab": {
          "base_uri": "https://localhost:8080/"
        },
        "id": "rmmw35lPZgok",
        "outputId": "0038e49f-9515-4302-bba1-404d581f4e83"
      },
      "source": [
        "# defining the model\n",
        "CNNmodel = CNN()\n",
        "# defining the optimizer\n",
        "optimizer = Adam(CNNmodel.parameters(), lr=0.07)\n",
        "# defining the loss function\n",
        "criterion = CrossEntropyLoss()\n",
        "# checking if GPU is available\n",
        "if torch.cuda.is_available():\n",
        "    CNNmodel = CNNmodel.cuda()\n",
        "    criterion = criterion.cuda()\n",
        "    \n",
        "print(CNNmodel)"
      ],
      "execution_count": null,
      "outputs": [
        {
          "output_type": "stream",
          "name": "stdout",
          "text": [
            "CNN(\n",
            "  (cnn_layers): Sequential(\n",
            "    (0): Conv2d(1, 1, kernel_size=(3, 3), stride=(1, 1), padding=(1, 1))\n",
            "    (1): ReLU(inplace=True)\n",
            "    (2): MaxPool2d(kernel_size=(600, 1), stride=1, padding=0, dilation=1, ceil_mode=False)\n",
            "  )\n",
            "  (linear_layers): Sequential(\n",
            "    (0): Linear(in_features=400, out_features=2, bias=True)\n",
            "  )\n",
            ")\n"
          ]
        }
      ]
    },
    {
      "cell_type": "code",
      "metadata": {
        "colab": {
          "base_uri": "https://localhost:8080/"
        },
        "id": "l1QEpyJ8vENA",
        "outputId": "e9e5209b-2b1a-40cc-8cfc-bc7caf91d989"
      },
      "source": [
        "summary(CNNmodel.cuda(), (1,600,400))"
      ],
      "execution_count": null,
      "outputs": [
        {
          "output_type": "stream",
          "name": "stdout",
          "text": [
            "----------------------------------------------------------------\n",
            "        Layer (type)               Output Shape         Param #\n",
            "================================================================\n",
            "            Conv2d-1          [-1, 1, 600, 400]              10\n",
            "              ReLU-2          [-1, 1, 600, 400]               0\n",
            "         MaxPool2d-3            [-1, 1, 1, 400]               0\n",
            "            Linear-4              [-1, 1, 1, 2]             802\n",
            "================================================================\n",
            "Total params: 812\n",
            "Trainable params: 812\n",
            "Non-trainable params: 0\n",
            "----------------------------------------------------------------\n",
            "Input size (MB): 0.92\n",
            "Forward/backward pass size (MB): 3.67\n",
            "Params size (MB): 0.00\n",
            "Estimated Total Size (MB): 4.58\n",
            "----------------------------------------------------------------\n"
          ]
        }
      ]
    },
    {
      "cell_type": "code",
      "metadata": {
        "id": "VA9JzAuSjDR4"
      },
      "source": [
        "forward_weights = GRUmodel.state_dict[weight_hh_l0]\n",
        "reverse_weights = GRUmodel.state_dict[weight_hh_l0_reverse]"
      ],
      "execution_count": null,
      "outputs": []
    },
    {
      "cell_type": "code",
      "metadata": {
        "id": "EMLxEjXgtAQ9"
      },
      "source": [
        "concat = torch.cat((forward_weights,reverse_weights),1).unsqueeze(0).unsqueeze(0)"
      ],
      "execution_count": null,
      "outputs": []
    },
    {
      "cell_type": "code",
      "metadata": {
        "colab": {
          "base_uri": "https://localhost:8080/"
        },
        "id": "zCKWej7YZ_XC",
        "outputId": "35bfd1a5-4867-4927-a90d-3d22daaee9b6"
      },
      "source": [
        "CNNmodel(concat).squeeze(0).squeeze(0).squeeze(0)"
      ],
      "execution_count": null,
      "outputs": [
        {
          "output_type": "execute_result",
          "data": {
            "text/plain": [
              "tensor([-0.3520, -0.3140], grad_fn=<SqueezeBackward1>)"
            ]
          },
          "metadata": {},
          "execution_count": 110
        }
      ]
    },
    {
      "cell_type": "markdown",
      "metadata": {
        "id": "_uKoDMdfJIBd"
      },
      "source": [
        "# Model 2 (SVM)"
      ]
    },
    {
      "cell_type": "code",
      "metadata": {
        "id": "SZoV48mtbmzR"
      },
      "source": [
        "sys.path.append('/content/drive/MyDrive/Colab Notebooks/TCC/A-Reversed-Turing-Test-for-Classifying-Inauthentic-Texts-master')\n",
        "path = '/content/drive/MyDrive/Colab Notebooks/TCC/A-Reversed-Turing-Test-for-Classifying-Inauthentic-Texts-master'\n",
        "bash_path = '/content/drive/MyDrive/Colab\\ Notebooks/TCC/A-Reversed-Turing-Test-for-Classifying-Inauthentic-Texts-master'"
      ],
      "execution_count": null,
      "outputs": []
    },
    {
      "cell_type": "code",
      "metadata": {
        "colab": {
          "base_uri": "https://localhost:8080/"
        },
        "id": "J2KugEq5cFCJ",
        "outputId": "32b192b4-490d-458a-83b3-7345f41ccc9e"
      },
      "source": [
        "! python $bash_path/tfidf_all.py --mode train --save $bash_path/model.pkl --path $bash_path/Human-Machine.csv"
      ],
      "execution_count": null,
      "outputs": [
        {
          "output_type": "stream",
          "name": "stdout",
          "text": [
            "0\n",
            "f1: 0.98970398287403937854\n",
            "1\n",
            "f1: 0.98385340730307002666\n",
            "2\n",
            "f1: 0.98016872346212968736\n",
            "3\n",
            "f1: 0.98678249379982174716\n",
            "4\n",
            "f1: 0.98750090330865958332\n",
            "5\n",
            "f1: 0.98898262414562765343\n",
            "6\n",
            "f1: 0.98824514972563726189\n",
            "7\n",
            "f1: 0.98603756201618164567\n",
            "8\n",
            "f1: 0.98971971739986130956\n",
            "9\n",
            "f1: 0.98899372023900711248\n",
            "f1_mean: 0.98699882842740349620\n"
          ]
        }
      ]
    },
    {
      "cell_type": "code",
      "metadata": {
        "id": "vz0fyFyJHyvu"
      },
      "source": [
        "test_string = 'am feeling some memeory upsurge and cpu downtime becuase of low system requirments}'"
      ],
      "execution_count": null,
      "outputs": []
    },
    {
      "cell_type": "code",
      "metadata": {
        "colab": {
          "base_uri": "https://localhost:8080/"
        },
        "id": "bjV2-1EzCpM-",
        "outputId": "0fe9fac0-20e8-4be8-905e-62f772ff712e"
      },
      "source": [
        "! python $bash_path/main.py --mode predict --load $bash_path/model.pkl --sample \"$test_string\""
      ],
      "execution_count": null,
      "outputs": [
        {
          "output_type": "stream",
          "name": "stdout",
          "text": [
            "[0.]\n"
          ]
        }
      ]
    },
    {
      "cell_type": "markdown",
      "metadata": {
        "id": "l4SxMoikJGNY"
      },
      "source": [
        "# Model 3 (GLTR)"
      ]
    },
    {
      "cell_type": "code",
      "metadata": {
        "id": "Cek_jhBvp15N"
      },
      "source": [
        "sys.path.append('/content/drive/MyDrive/Colab Notebooks/TCC/detecting-fake-text-master')\n",
        "path = '/content/drive/MyDrive/Colab Notebooks/TCC/detecting-fake-text-master'\n",
        "bash_path = '/content/drive/MyDrive/Colab\\ Notebooks/TCC/detecting-fake-text-master'"
      ],
      "execution_count": null,
      "outputs": []
    },
    {
      "cell_type": "code",
      "metadata": {
        "id": "1SMXhQTZWSvY"
      },
      "source": [
        "test_string = 'am feeling some memeory upsurge and cpu downtime becuase of low system requirments}'"
      ],
      "execution_count": null,
      "outputs": []
    },
    {
      "cell_type": "code",
      "metadata": {
        "id": "jgYTMaKmgfJP"
      },
      "source": [
        "out = !python $bash_path/main.py --k 5 --sample \"$test_string\""
      ],
      "execution_count": null,
      "outputs": []
    },
    {
      "cell_type": "code",
      "metadata": {
        "colab": {
          "base_uri": "https://localhost:8080/"
        },
        "id": "NECxIY1h1NqB",
        "outputId": "a523c536-2249-4e8a-cc62-613efbdbd240"
      },
      "source": [
        "out[0][out[0].find('bert'):].split()[1::2]"
      ],
      "execution_count": null,
      "outputs": [
        {
          "output_type": "execute_result",
          "data": {
            "text/plain": [
              "['0.12', '0.27', '0.19']"
            ]
          },
          "metadata": {},
          "execution_count": 333
        }
      ]
    },
    {
      "cell_type": "markdown",
      "metadata": {
        "id": "qEPQucnqrDy-"
      },
      "source": [
        "# Modelo Final\n"
      ]
    },
    {
      "cell_type": "code",
      "metadata": {
        "id": "gHkngh_ntpWV"
      },
      "source": [
        "from torchtext.data.datasets_utils import (\n",
        "    _RawTextIterableDataset,\n",
        "    _wrap_split_argument,\n",
        "    _find_match\n",
        ")\n",
        "\n",
        "NUM_LINES = {\n",
        "    'train': 36718,\n",
        "    'valid': 4358,\n",
        "    'test': 3760,\n",
        "    'generated_train': 220419,\n",
        "    'generated_valid': 27553,\n",
        "    'generated_test': 27552\n",
        "}\n",
        "\n",
        "DATASET_NAME = \"WikiText2\"\n",
        "\n",
        "def read_text_iterator(path, label):\n",
        "    with io.open(path, encoding=\"utf8\") as f:\n",
        "        for row in f:\n",
        "            yield row, label\n",
        "\n",
        "@_wrap_split_argument(('train', 'valid', 'test', 'generated_train',\n",
        "                       'generated_valid', 'generated_test'))\n",
        "def WikiText2(root, split):\n",
        "    files = os.listdir(root)\n",
        "    path = _find_match(split, files)\n",
        "    label = 1 if 'generated' in split else 0\n",
        "    fullpath = os.path.join(root,path)\n",
        "    return _RawTextIterableDataset(DATASET_NAME,\n",
        "                                   NUM_LINES[split],\n",
        "                                   read_text_iterator(fullpath,label))"
      ],
      "execution_count": null,
      "outputs": []
    },
    {
      "cell_type": "code",
      "metadata": {
        "id": "sHCEWhF8rFiM"
      },
      "source": [
        "class Model(Module):   \n",
        "  def __init__(self, path_to_saved_GRU, path_to_SVM, path_to_GLTR):\n",
        "    super(Model, self).__init__()\n",
        "    self.cnn = CNN().to(device),\n",
        "    self.gru_path = path_to_saved_GRU,\n",
        "    self.svm = os.path.join(path_to_SVM,'main.py'),\n",
        "    self.svm_path = path_to_SVM,\n",
        "    self.gltr = os.path.join(path_to_GLTR,'main.py'),\n",
        "    self.linear_layers = Sequential(\n",
        "        # Output of CNN (2), Output of SVM, Output of GLTR (2)\n",
        "        Linear(5, 1)\n",
        "    )\n",
        "\n",
        "  # Defining the forward pass    \n",
        "  def forward(self, string):\n",
        "    device = torch.device(\"cuda\" if torch.cuda.is_available() else \"cpu\")\n",
        "\n",
        "    # SC-Net\n",
        "    gru_model = torch.load(self.gru_path[0]+'/saved/gru.pt',\n",
        "                           map_location=torch.device(device))\n",
        "    for param in gru_model.parameters():\n",
        "      param.requires_grad_(False)\n",
        "    hidden_weights = torch.stack((gru_model.state_dict()['gru.weight_hh_l0'], \n",
        "                                  gru_model.state_dict()['gru.weight_hh_l0_reverse']))\n",
        "    \n",
        "    _ , out_gru = gru_model(prepare_input(self.gru_path[0],string),\n",
        "                            hidden_weights)\n",
        "    cnn_input = torch.cat((out_gru[0],out_gru[0]),1).unsqueeze(0).unsqueeze(0)\n",
        "    out_cnn = self.cnn[0](cnn_input.to(device))\n",
        "\n",
        "    # SVM\n",
        "    svm = self.svm[0].replace(' ','\\ ')\n",
        "    svm_path = self.svm_path[0].replace(' ','\\ ')\n",
        "    out_svm = !python $svm --mode predict --load $svm_path/model.pkl --sample \"$string\"\n",
        "\n",
        "    # GLTR\n",
        "    gltr = self.gltr[0].replace(' ','\\ ')\n",
        "    out = !python $gltr --k 5 --sample \"$string\"\n",
        "    out_gltr = out[-1][out[-1].find('bert'):].split()[1::2]\n",
        "\n",
        "    out_cnn = out_cnn.squeeze(0).squeeze(0).squeeze(0).to(device)\n",
        "    out_svm = torch.tensor(eval(out_svm[0])).to(device)\n",
        "    try:\n",
        "      out_gltr = torch.tensor([float(out_gltr[0]),\n",
        "                              float(out_gltr[1])]).to(device)\n",
        "    except IndexError:\n",
        "      out_gltr = torch.tensor([0.,0.]).to(device)\n",
        "\n",
        "    x = torch.cat((out_cnn,out_svm,out_gltr),0)\n",
        "    x = self.linear_layers(x)\n",
        "    return x"
      ],
      "execution_count": null,
      "outputs": []
    },
    {
      "cell_type": "code",
      "metadata": {
        "id": "snlskXNXnzH5"
      },
      "source": [
        "def prepare_input(path_to_data,string):\n",
        "  corpus = data.Corpus(path_to_data+'/data/wikitext-2/','human')\n",
        "  ids = []\n",
        "  for word in string.split():\n",
        "    if word in corpus.dictionary.word2idx.keys():\n",
        "      ids.append(corpus.dictionary.word2idx[word])\n",
        "    else:\n",
        "      #ids.append(corpus.dictionary.word2idx['<unk>'])\n",
        "      continue\n",
        "  for i in range(0,600-len(ids)):\n",
        "    ids.append(corpus.dictionary.word2idx['<eos>'])\n",
        "  ids = torch.unsqueeze(torch.tensor(ids).to(device),0)\n",
        "  return ids"
      ],
      "execution_count": null,
      "outputs": []
    },
    {
      "cell_type": "code",
      "metadata": {
        "id": "xdHJKhm6MYpW"
      },
      "source": [
        "file_list = ['valid.txt',\n",
        "             'test.txt',\n",
        "             'train.txt',\n",
        "             'generated_valid.txt',\n",
        "             'generated_test.txt',\n",
        "             'generated_train.txt']"
      ],
      "execution_count": null,
      "outputs": []
    },
    {
      "cell_type": "code",
      "metadata": {
        "id": "Fpv4Cqaz4djs"
      },
      "source": [
        "def prepare_file(filename):\n",
        "  with open(wikitext_path+'/Raw_files/'+filename,'r') as f:\n",
        "    lines = f.readlines()\n",
        "  with open(wikitext_path+'/'+filename,'x') as f_out:\n",
        "    for line in lines:\n",
        "      if len(line) > 5:\n",
        "        line = line.replace('<unk>','')\n",
        "        line = line.replace('\\\"','')\n",
        "      f_out.writelines(line)"
      ],
      "execution_count": null,
      "outputs": []
    },
    {
      "cell_type": "code",
      "metadata": {
        "id": "hb9LBEZ679na"
      },
      "source": [
        "for filename in file_list:\n",
        "  prepare_file(filename)"
      ],
      "execution_count": null,
      "outputs": []
    },
    {
      "cell_type": "code",
      "metadata": {
        "id": "sn7h54Kcm-4J"
      },
      "source": [
        "GRU_path = '/content/drive/MyDrive/Colab Notebooks/TCC/word_language_model'\n",
        "SVM_path = '/content/drive/MyDrive/Colab Notebooks/TCC/A-Reversed-Turing-Test-for-Classifying-Inauthentic-Texts-master'\n",
        "GLTR_path = '/content/drive/MyDrive/Colab Notebooks/TCC/detecting-fake-text-master'\n",
        "wikitext_path = '/content/drive/MyDrive/Colab Notebooks/TCC/word_language_model/data/wikitext-2'"
      ],
      "execution_count": null,
      "outputs": []
    },
    {
      "cell_type": "code",
      "metadata": {
        "id": "In8Jqb74-QJx"
      },
      "source": [
        "CompleteModel = Model(GRU_path,SVM_path,GLTR_path).to(device)\n",
        "criterion = L1Loss()\n",
        "optimizer = Adam(CompleteModel.parameters(),lr=0.00001)\n",
        "\n",
        "dataset_human = WikiText2(wikitext_path,'train')\n",
        "dataset_generated = WikiText2(wikitext_path,'generated_train')\n",
        "dataset = dataset_human+dataset_generated\n",
        "losses = []\n",
        "\n",
        "def train(epochs):\n",
        "  try:\n",
        "    checkpoint = torch.load(wikitext_path+'/model.ckpt')\n",
        "    CompleteModel.load_state_dict(checkpoint['model_state_dict'])\n",
        "    optimizer.load_state_dict(checkpoint['optimizer_state_dict'])\n",
        "    epoch_ckpt = checkpoint['epoch']\n",
        "    losses = checkpoint['losses']\n",
        "    iter = checkpoint['iter']\n",
        "  except FileNotFoundError:\n",
        "    print('Checkpoint not found!')\n",
        "\n",
        "  CompleteModel.train()\n",
        "  \n",
        "  for epoch in range(1,epochs+1):\n",
        "    for i, (line, label) in enumerate(dataset):\n",
        "      if iter:\n",
        "        if i < iter or epoch < epoch_ckpt:\n",
        "          continue\n",
        "\n",
        "      start = time.time()\n",
        "\n",
        "      CompleteModel.zero_grad()\n",
        "      print(line)\n",
        "      output = CompleteModel(line)\n",
        "\n",
        "      loss = criterion(output, torch.tensor(label).unsqueeze(0).to(device))\n",
        "      CompleteModel.train()\n",
        "      CompleteModel.cnn[0].train()\n",
        "      loss.backward()\n",
        "      optimizer.step()\n",
        "\n",
        "      losses.append(loss)\n",
        "\n",
        "      end = time.time()\n",
        "\n",
        "      if i%50 == 0:\n",
        "        torch.save({'epoch': epoch,\n",
        "                    'iter': i,\n",
        "                    'model_state_dict': CompleteModel.state_dict(),\n",
        "                    'optimizer_state_dict': optimizer.state_dict(),\n",
        "                    'losses': losses}, wikitext_path+'/model.ckpt')\n",
        "        \n",
        "      print('| iter: {:3d}/{:3d} | epoch: {:3d}/{:3d} | loss: {:5.6f} | time: {:5.2f} |'.\n",
        "            format(i,len(dataset),epoch,epochs,loss,end-start))"
      ],
      "execution_count": null,
      "outputs": []
    },
    {
      "cell_type": "code",
      "metadata": {
        "id": "fr1iFaeX0DSR"
      },
      "source": [
        "train(1)"
      ],
      "execution_count": null,
      "outputs": []
    },
    {
      "cell_type": "code",
      "metadata": {
        "id": "K0Z_TQGP6lhD"
      },
      "source": [
        "iterg 3200\n",
        "iter 3050"
      ],
      "execution_count": null,
      "outputs": []
    },
    {
      "cell_type": "markdown",
      "metadata": {
        "id": "6bYC6Eb5oGDS"
      },
      "source": [
        "# Avaliação"
      ]
    },
    {
      "cell_type": "code",
      "metadata": {
        "id": "UxWV9vGBoRmt"
      },
      "source": [
        "GRU_path = '/content/drive/MyDrive/Colab Notebooks/TCC/word_language_model'\n",
        "SVM_path = '/content/drive/MyDrive/Colab Notebooks/TCC/A-Reversed-Turing-Test-for-Classifying-Inauthentic-Texts-master'\n",
        "GLTR_path = '/content/drive/MyDrive/Colab Notebooks/TCC/detecting-fake-text-master'\n",
        "wikitext_path = '/content/drive/MyDrive/Colab Notebooks/TCC/word_language_model/data/wikitext-2'"
      ],
      "execution_count": null,
      "outputs": []
    },
    {
      "cell_type": "code",
      "metadata": {
        "id": "FwE2wbMKmzch"
      },
      "source": [
        "CompleteModel = Model(GRU_path,SVM_path,GLTR_path).to(device)\n",
        "checkpoint = torch.load(wikitext_path+'/model.ckpt')\n",
        "CompleteModel.load_state_dict(checkpoint['model_state_dict'])\n",
        "losses = checkpoint['losses']"
      ],
      "execution_count": null,
      "outputs": []
    },
    {
      "cell_type": "code",
      "metadata": {
        "colab": {
          "base_uri": "https://localhost:8080/",
          "height": 515
        },
        "id": "_26OzBdroHkp",
        "outputId": "b309f30b-6b10-4dbe-dc8a-8ca9d01323e0"
      },
      "source": [
        "from scipy.signal import savgol_filter\n",
        "\n",
        "y = losses\n",
        "\n",
        "yhat = savgol_filter(y, 101, 3) # window size 101, polynomial order 3\n",
        "\n",
        "x = list(range(0,len(y)))\n",
        "\n",
        "plt.figure(figsize=(15,8))\n",
        "plt.plot(x,y)\n",
        "plt.plot(x,yhat, color='red')\n",
        "plt.grid()\n",
        "plt.ylabel('L1 Loss',fontsize = 20)\n",
        "plt.xlabel('Iteration',fontsize = 20)\n",
        "plt.xticks(fontsize = 20)\n",
        "plt.yticks(fontsize = 20)\n",
        "plt.show()"
      ],
      "execution_count": null,
      "outputs": [
        {
          "output_type": "display_data",
          "data": {
            "image/png": "[encoded data removed]",
            "text/plain": [
              "<Figure size 1080x576 with 1 Axes>"
            ]
          },
          "metadata": {
            "needs_background": "light"
          }
        }
      ]
    },
    {
      "cell_type": "code",
      "metadata": {
        "id": "QmLLomT-4yR8"
      },
      "source": [
        "class Precision:\n",
        "    \"\"\"\n",
        "    Computes precision of the predictions with respect to the true labels.\n",
        "    Args:\n",
        "        y_true: Tensor of Ground truth values.\n",
        "        y_pred: Tensor of Predicted values.\n",
        "        epsilon: Fuzz factor to avoid division by zero. default: `1e-10`\n",
        "    Returns:\n",
        "        Tensor of precision score\n",
        "    \"\"\"\n",
        "\n",
        "    def __init__(self, epsilon=1e-10):\n",
        "        self.epsilon = epsilon\n",
        "\n",
        "    def __call__(self, y_pred, y_true):\n",
        "        y_pred = torch.tensor(y_pred,dtype=int)\n",
        "        y_true = torch.tensor(y_true,dtype=int)\n",
        "        true_positives = torch.sum(y_pred * y_true)\n",
        "        predicted_positives = torch.sum(y_pred)\n",
        "        precision = true_positives / (predicted_positives + self.epsilon)\n",
        "        return precision\n",
        "\n",
        "\n",
        "class Recall:\n",
        "    \"\"\"\n",
        "    Computes recall of the predictions with respect to the true labels.\n",
        "    Args:\n",
        "        y_true: Tensor of Ground truth values.\n",
        "        y_pred: Tensor of Predicted values.\n",
        "        epsilon: Fuzz factor to avoid division by zero. default: `1e-10`\n",
        "    Returns:\n",
        "        Tensor of recall score\n",
        "    \"\"\"\n",
        "\n",
        "    def __init__(self, epsilon=1e-10):\n",
        "        self.epsilon = epsilon\n",
        "\n",
        "    def __call__(self, y_pred, y_true):\n",
        "        y_pred = torch.tensor(y_pred,dtype=int)\n",
        "        y_true = torch.tensor(y_true,dtype=int)\n",
        "        true_positives = torch.sum(y_pred * y_true)\n",
        "        actual_positives = torch.sum(y_true)\n",
        "        recall = true_positives / (actual_positives + self.epsilon)\n",
        "        return recall\n",
        "\n",
        "\n",
        "class F1Score:\n",
        "    \"\"\"\n",
        "    Computes F1-score between `y_true` and `y_pred`.\n",
        "    Args:\n",
        "        y_true: Tensor of Ground truth values.\n",
        "        y_pred: Tensor of Predicted values.\n",
        "        epsilon: Fuzz factor to avoid division by zero. default: `1e-10`\n",
        "    Returns:\n",
        "        Tensor of F1-score\n",
        "    \"\"\"\n",
        "\n",
        "    def __init__(self, epsilon=1e-10):\n",
        "        self.epsilon = epsilon\n",
        "        self.precision = Precision()\n",
        "        self.recall = Recall()\n",
        "\n",
        "    def __call__(self, y_pred, y_true):\n",
        "        y_pred = torch.tensor(y_pred,dtype=int)\n",
        "        y_true = torch.tensor(y_true,dtype=int)\n",
        "        precision = self.precision(y_pred, y_true)\n",
        "        recall = self.recall(y_pred, y_true)\n",
        "        return 2 * ((precision * recall) / (precision + recall + self.epsilon))"
      ],
      "execution_count": null,
      "outputs": []
    },
    {
      "cell_type": "code",
      "metadata": {
        "colab": {
          "base_uri": "https://localhost:8080/"
        },
        "id": "uiVBSk-3TKtU",
        "outputId": "3f435a7f-c5b1-4d6c-9605-538e45d52555"
      },
      "source": [
        "score = F1Score()\n",
        "precision = Precision()\n",
        "recall = Recall()\n",
        "\n",
        "print(score(preds,labels),precision(preds,labels),recall(preds,labels))"
      ],
      "execution_count": null,
      "outputs": [
        {
          "output_type": "stream",
          "name": "stdout",
          "text": [
            "tensor(0.4407) tensor(0.2939) tensor(0.8798)\n"
          ]
        },
        {
          "output_type": "stream",
          "name": "stderr",
          "text": [
            "/usr/local/lib/python3.7/dist-packages/ipykernel_launcher.py:16: UserWarning: To copy construct from a tensor, it is recommended to use sourceTensor.clone().detach() or sourceTensor.clone().detach().requires_grad_(True), rather than torch.tensor(sourceTensor).\n",
            "  app.launch_new_instance()\n",
            "/usr/local/lib/python3.7/dist-packages/ipykernel_launcher.py:17: UserWarning: To copy construct from a tensor, it is recommended to use sourceTensor.clone().detach() or sourceTensor.clone().detach().requires_grad_(True), rather than torch.tensor(sourceTensor).\n",
            "/usr/local/lib/python3.7/dist-packages/ipykernel_launcher.py:39: UserWarning: To copy construct from a tensor, it is recommended to use sourceTensor.clone().detach() or sourceTensor.clone().detach().requires_grad_(True), rather than torch.tensor(sourceTensor).\n",
            "/usr/local/lib/python3.7/dist-packages/ipykernel_launcher.py:40: UserWarning: To copy construct from a tensor, it is recommended to use sourceTensor.clone().detach() or sourceTensor.clone().detach().requires_grad_(True), rather than torch.tensor(sourceTensor).\n"
          ]
        }
      ]
    },
    {
      "cell_type": "code",
      "metadata": {
        "id": "GltdPDPp7udY"
      },
      "source": [
        "0def binary_step(x):\n",
        "  if x<0:\n",
        "    return 0\n",
        "  else:\n",
        "    return 1"
      ],
      "execution_count": null,
      "outputs": []
    },
    {
      "cell_type": "code",
      "metadata": {
        "colab": {
          "base_uri": "https://localhost:8080/"
        },
        "id": "ksr5HofNCdOq",
        "outputId": "06a7f3ed-cdaa-4817-8f3a-c883fbacb586"
      },
      "source": [
        "dataset_human = WikiText2(wikitext_path,'test')\n",
        "dataset_generated = WikiText2(wikitext_path,'generated_test')\n",
        "dataset = dataset_human+dataset_generated\n",
        "print(len(dataset_human)//2,len(dataset_generated)//24,len(dataset_human)//2+len(dataset_generated)//24)"
      ],
      "execution_count": null,
      "outputs": [
        {
          "output_type": "stream",
          "name": "stdout",
          "text": [
            "1880 1148 3028\n"
          ]
        }
      ]
    },
    {
      "cell_type": "code",
      "metadata": {
        "colab": {
          "base_uri": "https://localhost:8080/"
        },
        "id": "vnrEWM-FEIyW",
        "outputId": "01f4e632-8c0b-4f5c-a540-32190b595a5e"
      },
      "source": [
        "print(len(dataset_human))"
      ],
      "execution_count": null,
      "outputs": [
        {
          "output_type": "stream",
          "name": "stdout",
          "text": [
            "3760\n"
          ]
        }
      ]
    },
    {
      "cell_type": "code",
      "metadata": {
        "colab": {
          "base_uri": "https://localhost:8080/"
        },
        "id": "I-6R0G6bDcCR",
        "outputId": "6bda38ec-6415-4725-82de-f5524af824b6"
      },
      "source": [
        "3760+1148 "
      ],
      "execution_count": null,
      "outputs": [
        {
          "output_type": "execute_result",
          "data": {
            "text/plain": [
              "4908"
            ]
          },
          "metadata": {},
          "execution_count": 63
        }
      ]
    },
    {
      "cell_type": "code",
      "metadata": {
        "id": "xZTJG7B9OZnC"
      },
      "source": [
        "predictions = torch.load(wikitext_path+'/predictions.pt')\n",
        "preds = predictions['preds']\n",
        "labels = predictions['labels']"
      ],
      "execution_count": null,
      "outputs": []
    },
    {
      "cell_type": "code",
      "metadata": {
        "id": "wGhrKR2DPuoF"
      },
      "source": [
        "preds = []\n",
        "labels = []"
      ],
      "execution_count": null,
      "outputs": []
    },
    {
      "cell_type": "code",
      "metadata": {
        "colab": {
          "base_uri": "https://localhost:8080/"
        },
        "id": "86Rb14RpOjPS",
        "outputId": "bb4e6a03-3cee-4369-c422-c1dfec15b609"
      },
      "source": [
        "print(len(preds),len(labels))"
      ],
      "execution_count": null,
      "outputs": [
        {
          "output_type": "stream",
          "name": "stdout",
          "text": [
            "2322 2322\n"
          ]
        }
      ]
    },
    {
      "cell_type": "code",
      "metadata": {
        "id": "_HcTe63xAT-e"
      },
      "source": [
        "def evaluate():\n",
        "  dataset_human = WikiText2(wikitext_path,'test')\n",
        "  dataset_generated = WikiText2(wikitext_path,'generated_test')\n",
        "  dataset = dataset_human+dataset_generated\n",
        "\n",
        "  CompleteModel.eval()\n",
        "\n",
        "  for i, (line, label) in enumerate(dataset):\n",
        "    if i < 1401 :\n",
        "      continue\n",
        "    if i > len(dataset_human)//2 and i < len(dataset_human):\n",
        "      continue\n",
        "    elif i > len(dataset_human)+len(dataset_generated)//24:\n",
        "      break\n",
        "    else:\n",
        "      out = CompleteModel(line)\n",
        "      pred = binary_step(float(out))\n",
        "      preds.append(pred)\n",
        "      labels.append(label)\n",
        "      print(i)\n",
        "    if i % 50 == 0:\n",
        "      torch.save({'preds': preds,\n",
        "                  'labels': labels},wikitext_path+'/predictions.pt')"
      ],
      "execution_count": null,
      "outputs": []
    },
    {
      "cell_type": "code",
      "metadata": {
        "colab": {
          "base_uri": "https://localhost:8080/",
          "height": 1000
        },
        "id": "a0kJ75gy3G4T",
        "outputId": "bbcf2eaf-48de-43d6-ed38-6f750d15a6a7"
      },
      "source": [
        "evaluate()"
      ],
      "execution_count": null,
      "outputs": [
        {
          "output_type": "stream",
          "name": "stderr",
          "text": [
            "/usr/local/lib/python3.7/dist-packages/torch/nn/functional.py:718: UserWarning: Named tensors and all their associated APIs are an experimental feature and subject to change. Please do not use them for anything important until they are released as stable. (Triggered internally at  /pytorch/c10/core/TensorImpl.h:1156.)\n",
            "  return torch.max_pool2d(input, kernel_size, stride, padding, dilation, ceil_mode)\n"
          ]
        },
        {
          "output_type": "stream",
          "name": "stdout",
          "text": [
            "1401\n",
            "1402\n",
            "1403\n",
            "1404\n",
            "1405\n",
            "1406\n",
            "1407\n",
            "1408\n",
            "1409\n",
            "1410\n",
            "1411\n",
            "1412\n",
            "1413\n",
            "1414\n",
            "1415\n",
            "1416\n",
            "1417\n",
            "1418\n",
            "1419\n",
            "1420\n",
            "1421\n",
            "1422\n",
            "1423\n",
            "1424\n",
            "1425\n",
            "1426\n",
            "1427\n",
            "1428\n",
            "1429\n",
            "1430\n",
            "1431\n",
            "1432\n",
            "1433\n",
            "1434\n",
            "1435\n",
            "1436\n",
            "1437\n",
            "1438\n",
            "1439\n",
            "1440\n",
            "1441\n",
            "1442\n",
            "1443\n",
            "1444\n",
            "1445\n",
            "1446\n",
            "1447\n",
            "1448\n",
            "1449\n",
            "1450\n",
            "1451\n",
            "1452\n",
            "1453\n",
            "1454\n",
            "1455\n",
            "1456\n",
            "1457\n",
            "1458\n",
            "1459\n",
            "1460\n",
            "1461\n",
            "1462\n",
            "1463\n",
            "1464\n",
            "1465\n",
            "1466\n",
            "1467\n",
            "1468\n",
            "1469\n",
            "1470\n",
            "1471\n",
            "1472\n",
            "1473\n",
            "1474\n",
            "1475\n",
            "1476\n",
            "1477\n",
            "1478\n",
            "1479\n",
            "1480\n",
            "1481\n",
            "1482\n",
            "1483\n",
            "1484\n",
            "1485\n",
            "1486\n",
            "1487\n",
            "1488\n",
            "1489\n",
            "1490\n",
            "1491\n",
            "1492\n",
            "1493\n",
            "1494\n",
            "1495\n",
            "1496\n",
            "1497\n",
            "1498\n",
            "1499\n",
            "1500\n",
            "1501\n",
            "1502\n",
            "1503\n",
            "1504\n",
            "1505\n",
            "1506\n",
            "1507\n",
            "1508\n",
            "1509\n",
            "1510\n",
            "1511\n",
            "1512\n",
            "1513\n",
            "1514\n",
            "1515\n",
            "1516\n",
            "1517\n",
            "1518\n",
            "1519\n",
            "1520\n",
            "1521\n",
            "1522\n",
            "1523\n",
            "1524\n",
            "1525\n",
            "1526\n",
            "1527\n",
            "1528\n",
            "1529\n",
            "1530\n",
            "1531\n",
            "1532\n",
            "1533\n",
            "1534\n",
            "1535\n",
            "1536\n",
            "1537\n",
            "1538\n",
            "1539\n",
            "1540\n",
            "1541\n",
            "1542\n",
            "1543\n",
            "1544\n",
            "1545\n",
            "1546\n",
            "1547\n",
            "1548\n",
            "1549\n",
            "1550\n",
            "1551\n",
            "1552\n",
            "1553\n",
            "1554\n",
            "1555\n",
            "1556\n",
            "1557\n",
            "1558\n",
            "1559\n",
            "1560\n",
            "1561\n",
            "1562\n",
            "1563\n",
            "1564\n",
            "1565\n",
            "1566\n",
            "1567\n",
            "1568\n",
            "1569\n",
            "1570\n",
            "1571\n",
            "1572\n",
            "1573\n",
            "1574\n",
            "1575\n",
            "1576\n",
            "1577\n",
            "1578\n",
            "1579\n",
            "1580\n",
            "1581\n",
            "1582\n",
            "1583\n",
            "1584\n",
            "1585\n",
            "1586\n",
            "1587\n",
            "1588\n",
            "1589\n",
            "1590\n",
            "1591\n",
            "1592\n",
            "1593\n",
            "1594\n",
            "1595\n",
            "1596\n",
            "1597\n",
            "1598\n",
            "1599\n",
            "1600\n",
            "1601\n",
            "1602\n",
            "1603\n",
            "1604\n",
            "1605\n",
            "1606\n",
            "1607\n",
            "1608\n",
            "1609\n",
            "1610\n",
            "1611\n",
            "1612\n",
            "1613\n",
            "1614\n",
            "1615\n",
            "1616\n",
            "1617\n",
            "1618\n",
            "1619\n",
            "1620\n",
            "1621\n",
            "1622\n",
            "1623\n",
            "1624\n",
            "1625\n",
            "1626\n",
            "1627\n",
            "1628\n",
            "1629\n",
            "1630\n",
            "1631\n",
            "1632\n",
            "1633\n",
            "1634\n",
            "1635\n",
            "1636\n",
            "1637\n",
            "1638\n",
            "1639\n",
            "1640\n",
            "1641\n",
            "1642\n",
            "1643\n",
            "1644\n",
            "1645\n",
            "1646\n",
            "1647\n",
            "1648\n",
            "1649\n",
            "1650\n",
            "1651\n",
            "1652\n",
            "1653\n",
            "1654\n",
            "1655\n",
            "1656\n",
            "1657\n",
            "1658\n",
            "1659\n",
            "1660\n",
            "1661\n",
            "1662\n",
            "1663\n",
            "1664\n",
            "1665\n",
            "1666\n",
            "1667\n",
            "1668\n",
            "1669\n",
            "1670\n",
            "1671\n",
            "1672\n",
            "1673\n",
            "1674\n",
            "1675\n",
            "1676\n",
            "1677\n",
            "1678\n",
            "1679\n",
            "1680\n",
            "1681\n",
            "1682\n",
            "1683\n",
            "1684\n",
            "1685\n",
            "1686\n",
            "1687\n",
            "1688\n",
            "1689\n",
            "1690\n",
            "1691\n",
            "1692\n",
            "1693\n",
            "1694\n",
            "1695\n",
            "1696\n",
            "1697\n",
            "1698\n",
            "1699\n",
            "1700\n",
            "1701\n",
            "1702\n",
            "1703\n",
            "1704\n",
            "1705\n",
            "1706\n",
            "1707\n",
            "1708\n",
            "1709\n",
            "1710\n",
            "1711\n",
            "1712\n",
            "1713\n",
            "1714\n",
            "1715\n",
            "1716\n",
            "1717\n",
            "1718\n",
            "1719\n",
            "1720\n",
            "1721\n",
            "1722\n",
            "1723\n",
            "1724\n",
            "1725\n",
            "1726\n",
            "1727\n",
            "1728\n",
            "1729\n",
            "1730\n",
            "1731\n",
            "1732\n",
            "1733\n",
            "1734\n",
            "1735\n",
            "1736\n",
            "1737\n",
            "1738\n",
            "1739\n",
            "1740\n",
            "1741\n",
            "1742\n",
            "1743\n",
            "1744\n",
            "1745\n",
            "1746\n",
            "1747\n",
            "1748\n",
            "1749\n",
            "1750\n",
            "1751\n",
            "1752\n",
            "1753\n",
            "1754\n",
            "1755\n",
            "1756\n",
            "1757\n",
            "1758\n",
            "1759\n",
            "1760\n",
            "1761\n",
            "1762\n",
            "1763\n",
            "1764\n",
            "1765\n",
            "1766\n",
            "1767\n",
            "1768\n",
            "1769\n",
            "1770\n",
            "1771\n",
            "1772\n",
            "1773\n",
            "1774\n",
            "1775\n",
            "1776\n",
            "1777\n",
            "1778\n",
            "1779\n",
            "1780\n",
            "1781\n",
            "1782\n",
            "1783\n",
            "1784\n",
            "1785\n",
            "1786\n",
            "1787\n",
            "1788\n",
            "1789\n",
            "1790\n",
            "1791\n",
            "1792\n",
            "1793\n",
            "1794\n",
            "1795\n",
            "1796\n",
            "1797\n",
            "1798\n",
            "1799\n",
            "1800\n",
            "1801\n",
            "1802\n",
            "1803\n",
            "1804\n",
            "1805\n",
            "1806\n",
            "1807\n",
            "1808\n",
            "1809\n",
            "1810\n",
            "1811\n",
            "1812\n",
            "1813\n",
            "1814\n",
            "1815\n",
            "1816\n",
            "1817\n",
            "1818\n",
            "1819\n",
            "1820\n",
            "1821\n",
            "1822\n",
            "1823\n",
            "1824\n",
            "1825\n",
            "1826\n",
            "1827\n",
            "1828\n",
            "1829\n",
            "1830\n",
            "1831\n",
            "1832\n",
            "1833\n",
            "1834\n",
            "1835\n",
            "1836\n",
            "1837\n",
            "1838\n",
            "1839\n",
            "1840\n",
            "1841\n",
            "1842\n",
            "1843\n",
            "1844\n",
            "1845\n",
            "1846\n",
            "1847\n",
            "1848\n",
            "1849\n",
            "1850\n",
            "1851\n",
            "1852\n",
            "1853\n",
            "1854\n",
            "1855\n",
            "1856\n",
            "1857\n",
            "1858\n",
            "1859\n",
            "1860\n",
            "1861\n",
            "1862\n",
            "1863\n",
            "1864\n",
            "1865\n",
            "1866\n",
            "1867\n",
            "1868\n",
            "1869\n",
            "1870\n",
            "1871\n",
            "1872\n",
            "1873\n",
            "1874\n",
            "1875\n",
            "1876\n",
            "1877\n",
            "1878\n",
            "1879\n",
            "1880\n",
            "3760\n",
            "3761\n",
            "3762\n",
            "3763\n",
            "3764\n",
            "3765\n",
            "3766\n",
            "3767\n",
            "3768\n",
            "3769\n",
            "3770\n",
            "3771\n",
            "3772\n",
            "3773\n",
            "3774\n",
            "3775\n",
            "3776\n",
            "3777\n",
            "3778\n",
            "3779\n",
            "3780\n",
            "3781\n",
            "3782\n",
            "3783\n",
            "3784\n",
            "3785\n",
            "3786\n",
            "3787\n",
            "3788\n",
            "3789\n",
            "3790\n",
            "3791\n",
            "3792\n",
            "3793\n",
            "3794\n",
            "3795\n",
            "3796\n",
            "3797\n",
            "3798\n",
            "3799\n",
            "3800\n",
            "3801\n",
            "3802\n",
            "3803\n",
            "3804\n",
            "3805\n",
            "3806\n",
            "3807\n",
            "3808\n",
            "3809\n",
            "3810\n",
            "3811\n",
            "3812\n",
            "3813\n",
            "3814\n",
            "3815\n",
            "3816\n",
            "3817\n",
            "3818\n",
            "3819\n",
            "3820\n",
            "3821\n",
            "3822\n",
            "3823\n",
            "3824\n",
            "3825\n",
            "3826\n",
            "3827\n",
            "3828\n",
            "3829\n",
            "3830\n",
            "3831\n",
            "3832\n",
            "3833\n",
            "3834\n",
            "3835\n",
            "3836\n",
            "3837\n",
            "3838\n",
            "3839\n",
            "3840\n",
            "3841\n",
            "3842\n",
            "3843\n",
            "3844\n",
            "3845\n",
            "3846\n",
            "3847\n",
            "3848\n",
            "3849\n",
            "3850\n",
            "3851\n",
            "3852\n",
            "3853\n",
            "3854\n",
            "3855\n",
            "3856\n",
            "3857\n",
            "3858\n",
            "3859\n",
            "3860\n",
            "3861\n",
            "3862\n",
            "3863\n",
            "3864\n",
            "3865\n",
            "3866\n",
            "3867\n",
            "3868\n",
            "3869\n",
            "3870\n",
            "3871\n",
            "3872\n",
            "3873\n",
            "3874\n",
            "3875\n",
            "3876\n",
            "3877\n",
            "3878\n",
            "3879\n",
            "3880\n",
            "3881\n",
            "3882\n",
            "3883\n",
            "3884\n",
            "3885\n",
            "3886\n",
            "3887\n",
            "3888\n",
            "3889\n",
            "3890\n",
            "3891\n",
            "3892\n",
            "3893\n",
            "3894\n",
            "3895\n",
            "3896\n",
            "3897\n",
            "3898\n",
            "3899\n",
            "3900\n",
            "3901\n",
            "3902\n",
            "3903\n",
            "3904\n",
            "3905\n",
            "3906\n",
            "3907\n",
            "3908\n",
            "3909\n",
            "3910\n",
            "3911\n",
            "3912\n",
            "3913\n",
            "3914\n",
            "3915\n",
            "3916\n",
            "3917\n",
            "3918\n",
            "3919\n",
            "3920\n",
            "3921\n",
            "3922\n",
            "3923\n",
            "3924\n",
            "3925\n",
            "3926\n",
            "3927\n",
            "3928\n",
            "3929\n",
            "3930\n",
            "3931\n",
            "3932\n",
            "3933\n",
            "3934\n",
            "3935\n",
            "3936\n",
            "3937\n",
            "3938\n",
            "3939\n",
            "3940\n",
            "3941\n",
            "3942\n",
            "3943\n",
            "3944\n",
            "3945\n",
            "3946\n",
            "3947\n",
            "3948\n",
            "3949\n",
            "3950\n",
            "3951\n",
            "3952\n",
            "3953\n",
            "3954\n",
            "3955\n",
            "3956\n",
            "3957\n",
            "3958\n",
            "3959\n",
            "3960\n",
            "3961\n",
            "3962\n",
            "3963\n",
            "3964\n",
            "3965\n",
            "3966\n",
            "3967\n",
            "3968\n",
            "3969\n",
            "3970\n",
            "3971\n",
            "3972\n",
            "3973\n",
            "3974\n",
            "3975\n",
            "3976\n",
            "3977\n",
            "3978\n",
            "3979\n",
            "3980\n",
            "3981\n",
            "3982\n",
            "3983\n",
            "3984\n",
            "3985\n",
            "3986\n",
            "3987\n",
            "3988\n",
            "3989\n",
            "3990\n",
            "3991\n",
            "3992\n",
            "3993\n",
            "3994\n",
            "3995\n",
            "3996\n",
            "3997\n",
            "3998\n",
            "3999\n",
            "4000\n",
            "4001\n",
            "4002\n",
            "4003\n",
            "4004\n",
            "4005\n",
            "4006\n",
            "4007\n",
            "4008\n",
            "4009\n",
            "4010\n",
            "4011\n",
            "4012\n",
            "4013\n",
            "4014\n",
            "4015\n",
            "4016\n",
            "4017\n",
            "4018\n",
            "4019\n",
            "4020\n",
            "4021\n",
            "4022\n",
            "4023\n",
            "4024\n",
            "4025\n",
            "4026\n",
            "4027\n",
            "4028\n",
            "4029\n",
            "4030\n",
            "4031\n",
            "4032\n",
            "4033\n",
            "4034\n",
            "4035\n",
            "4036\n",
            "4037\n",
            "4038\n",
            "4039\n",
            "4040\n",
            "4041\n",
            "4042\n",
            "4043\n",
            "4044\n",
            "4045\n",
            "4046\n",
            "4047\n",
            "4048\n",
            "4049\n",
            "4050\n",
            "4051\n",
            "4052\n",
            "4053\n",
            "4054\n",
            "4055\n",
            "4056\n",
            "4057\n",
            "4058\n",
            "4059\n",
            "4060\n",
            "4061\n",
            "4062\n",
            "4063\n",
            "4064\n",
            "4065\n",
            "4066\n",
            "4067\n",
            "4068\n",
            "4069\n",
            "4070\n",
            "4071\n",
            "4072\n",
            "4073\n",
            "4074\n",
            "4075\n",
            "4076\n",
            "4077\n",
            "4078\n",
            "4079\n",
            "4080\n",
            "4081\n",
            "4082\n",
            "4083\n",
            "4084\n",
            "4085\n",
            "4086\n",
            "4087\n",
            "4088\n",
            "4089\n",
            "4090\n",
            "4091\n",
            "4092\n",
            "4093\n",
            "4094\n",
            "4095\n",
            "4096\n",
            "4097\n",
            "4098\n",
            "4099\n",
            "4100\n",
            "4101\n",
            "4102\n",
            "4103\n",
            "4104\n",
            "4105\n",
            "4106\n",
            "4107\n",
            "4108\n",
            "4109\n",
            "4110\n",
            "4111\n",
            "4112\n",
            "4113\n",
            "4114\n",
            "4115\n",
            "4116\n",
            "4117\n",
            "4118\n",
            "4119\n",
            "4120\n",
            "4121\n",
            "4122\n",
            "4123\n",
            "4124\n",
            "4125\n",
            "4126\n",
            "4127\n",
            "4128\n",
            "4129\n",
            "4130\n",
            "4131\n",
            "4132\n",
            "4133\n",
            "4134\n",
            "4135\n",
            "4136\n",
            "4137\n",
            "4138\n",
            "4139\n",
            "4140\n",
            "4141\n",
            "4142\n",
            "4143\n",
            "4144\n",
            "4145\n",
            "4146\n",
            "4147\n",
            "4148\n",
            "4149\n",
            "4150\n",
            "4151\n",
            "4152\n",
            "4153\n",
            "4154\n",
            "4155\n",
            "4156\n",
            "4157\n",
            "4158\n",
            "4159\n",
            "4160\n",
            "4161\n",
            "4162\n",
            "4163\n",
            "4164\n",
            "4165\n",
            "4166\n",
            "4167\n",
            "4168\n",
            "4169\n",
            "4170\n",
            "4171\n",
            "4172\n",
            "4173\n",
            "4174\n",
            "4175\n",
            "4176\n",
            "4177\n",
            "4178\n",
            "4179\n",
            "4180\n",
            "4181\n",
            "4182\n",
            "4183\n",
            "4184\n",
            "4185\n",
            "4186\n",
            "4187\n",
            "4188\n",
            "4189\n",
            "4190\n",
            "4191\n",
            "4192\n",
            "4193\n",
            "4194\n",
            "4195\n",
            "4196\n",
            "4197\n",
            "4198\n",
            "4199\n",
            "4200\n"
          ]
        },
        {
          "output_type": "error",
          "ename": "SyntaxError",
          "evalue": "ignored",
          "traceback": [
            "\u001b[0;36m  File \u001b[0;32m\"<string>\"\u001b[0;36m, line \u001b[0;32m1\u001b[0m\n\u001b[0;31m    /bin/bash: -c: line 0: unexpected EOF while looking for matching ``'\u001b[0m\n\u001b[0m    ^\u001b[0m\n\u001b[0;31mSyntaxError\u001b[0m\u001b[0;31m:\u001b[0m invalid syntax\n"
          ]
        }
      ]
    },
    {
      "cell_type": "code",
      "metadata": {
        "colab": {
          "base_uri": "https://localhost:8080/"
        },
        "id": "4zMkZf3q3IC6",
        "outputId": "f5b8f779-e46f-4bc8-8d74-43b9989144c9"
      },
      "source": [
        "print(list(zip(preds,labels)))"
      ],
      "execution_count": null,
      "outputs": [
        {
          "output_type": "stream",
          "name": "stdout",
          "text": [
            "[(0, 0), (1, 0), (0, 0), (1, 0), (1, 0), (0, 0), (1, 0), (0, 0), (0, 0), (1, 0), (0, 0), (1, 0), (1, 0), (0, 0), (1, 0), (0, 0), (1, 0), (1, 0), (0, 0), (1, 0), (0, 0), (0, 0), (1, 0), (0, 0), (0, 0), (1, 0), (0, 0), (0, 0), (1, 0), (0, 0), (0, 0), (0, 0), (1, 0), (0, 0), (1, 0), (1, 0), (0, 0), (1, 0), (0, 0), (1, 0), (0, 0), (1, 0), (0, 0), (1, 0), (1, 0), (1, 0), (1, 0), (1, 0), (1, 0), (0, 0), (1, 0), (0, 0), (1, 0), (0, 0), (0, 0), (1, 0), (1, 0), (0, 0), (1, 0), (1, 0), (0, 0), (1, 0), (0, 0), (1, 0), (0, 0), (1, 0), (0, 0), (1, 0), (1, 0), (1, 0), (1, 0), (0, 0), (1, 0), (0, 0), (1, 0), (0, 0), (1, 0), (0, 0), (1, 0), (1, 0), (0, 0), (1, 0), (0, 0), (1, 0), (1, 0), (1, 0), (0, 0), (1, 0), (0, 0), (1, 0), (1, 0), (1, 0), (1, 0), (0, 0), (1, 0), (0, 0), (1, 0), (0, 0), (1, 0), (1, 0), (1, 0), (1, 0), (0, 0), (1, 0), (0, 0), (1, 0), (0, 0), (0, 0), (0, 0), (1, 0), (0, 0), (0, 0), (1, 0), (1, 0), (0, 0), (0, 0), (1, 0), (0, 0), (1, 0), (1, 0), (1, 0), (1, 0), (0, 0), (1, 0), (0, 0), (1, 0), (1, 0), (0, 0), (1, 0), (0, 0), (1, 0), (1, 0), (0, 0), (1, 0), (0, 0), (1, 0), (1, 0), (0, 0), (1, 0), (0, 0), (1, 0), (1, 0), (1, 0), (1, 0), (0, 0), (1, 0), (0, 0), (1, 0), (0, 0), (1, 0), (0, 0), (0, 0), (0, 0), (1, 0), (0, 0), (1, 0), (0, 0), (1, 0), (1, 0), (1, 0), (1, 0), (1, 0), (1, 0), (0, 0), (1, 0), (1, 0), (0, 0), (1, 0), (0, 0), (0, 0), (1, 0), (0, 0), (0, 0), (1, 0), (0, 0), (0, 0), (0, 0), (1, 0), (0, 0), (0, 0), (0, 0), (0, 0), (1, 0), (0, 0), (1, 0), (1, 0), (1, 0), (1, 0), (0, 0), (1, 0), (0, 0), (1, 0), (1, 0), (1, 0), (0, 0), (1, 0), (0, 0), (1, 0), (1, 0), (0, 0), (1, 0), (0, 0), (0, 0), (1, 0), (1, 0), (0, 0), (0, 0), (0, 0), (1, 0), (0, 0), (1, 0), (1, 0), (0, 0), (1, 0), (0, 0), (1, 0), (0, 0), (1, 0), (0, 0), (1, 0), (0, 0), (1, 0), (0, 0), (1, 0), (0, 0), (1, 0), (0, 0), (1, 0), (0, 0), (1, 0), (0, 0), (0, 0), (1, 0), (1, 0), (0, 0), (1, 0), (0, 0), (1, 0), (1, 0), (0, 0), (1, 0), (0, 0), (0, 0), (1, 0), (0, 0), (0, 0), (0, 0), (1, 0), (0, 0), (1, 0), (1, 0), (1, 0), (1, 0), (0, 0), (1, 0), (0, 0), (1, 0), (1, 0), (0, 0), (1, 0), (1, 0), (1, 0), (0, 0), (0, 0), (1, 0), (0, 0), (0, 0), (1, 0), (0, 0), (0, 0), (0, 0), (1, 0), (1, 0), (0, 0), (1, 0), (0, 0), (1, 0), (1, 0), (1, 0), (1, 0), (1, 0), (0, 0), (1, 0), (0, 0), (1, 0), (1, 0), (0, 0), (1, 0), (1, 0), (0, 0), (1, 0), (0, 0), (1, 0), (0, 0), (0, 0), (0, 0), (0, 0), (1, 0), (1, 0), (1, 0), (0, 0), (1, 0), (0, 0), (1, 0), (0, 0), (0, 0), (1, 0), (0, 0), (1, 0), (1, 0), (1, 0), (0, 0), (1, 0), (1, 0), (1, 0), (0, 0), (1, 0), (0, 0), (1, 0), (1, 0), (0, 0), (0, 0), (1, 0), (0, 0), (1, 0), (1, 0), (0, 0), (0, 0), (1, 0), (0, 0), (0, 0), (1, 0), (0, 0), (1, 0), (1, 0), (0, 0), (1, 0), (0, 0), (1, 0), (1, 0), (0, 0), (1, 0), (0, 0), (1, 0), (1, 0), (1, 0), (0, 0), (1, 0), (0, 0), (1, 0), (1, 0), (1, 0), (1, 0), (1, 0), (0, 0), (1, 0), (0, 0), (1, 0), (1, 0), (1, 0), (1, 0), (1, 0), (1, 0), (1, 0), (1, 0), (1, 0), (0, 0), (1, 0), (0, 0), (1, 0), (1, 0), (1, 0), (1, 0), (1, 0), (1, 0), (0, 0), (1, 0), (0, 0), (0, 0), (1, 0), (1, 0), (1, 0), (0, 0), (1, 0), (0, 0), (1, 0), (1, 0), (0, 0), (1, 0), (0, 0), (1, 0), (0, 0), (1, 0), (1, 0), (1, 0), (0, 0), (1, 0), (0, 0), (1, 0), (1, 0), (1, 0), (1, 0), (1, 0), (1, 0), (1, 0), (0, 0), (1, 0), (0, 0), (1, 0), (1, 0), (1, 0), (1, 0), (0, 0), (1, 0), (0, 0), (1, 0), (1, 0), (1, 0), (0, 0), (1, 0), (0, 0), (1, 0), (1, 0), (1, 0), (1, 0), (1, 0), (1, 0), (0, 0), (0, 0), (1, 0), (0, 0), (1, 0), (1, 0), (1, 0), (1, 0), (0, 0), (1, 0), (0, 0), (1, 0), (0, 0), (1, 0), (0, 0), (1, 0), (1, 0), (0, 0), (0, 0), (0, 0), (1, 0), (0, 0), (1, 0), (1, 0), (0, 0), (1, 0), (0, 0), (0, 0), (1, 0), (0, 0), (0, 0), (1, 0), (0, 0), (1, 0), (0, 0), (1, 0), (1, 0), (1, 0), (0, 0), (1, 0), (0, 0), (1, 0), (0, 0), (0, 0), (0, 0), (1, 0), (1, 0), (1, 0), (1, 0), (0, 0), (1, 0), (0, 0), (0, 0), (1, 0), (0, 0), (1, 0), (1, 0), (0, 0), (1, 0), (0, 0), (1, 0), (0, 0), (1, 0), (0, 0), (1, 0), (1, 0), (1, 0), (0, 0), (0, 0), (1, 0), (0, 0), (1, 0), (1, 0), (1, 0), (0, 0), (0, 0), (0, 0), (0, 0), (0, 0), (0, 0), (0, 0), (0, 0), (0, 0), (0, 0), (1, 0), (0, 0), (0, 0), (1, 0), (0, 0), (0, 0), (1, 0), (1, 0), (1, 0), (1, 0), (1, 0), (1, 0), (1, 0), (1, 0), (1, 0), (1, 0), (1, 0), (0, 0), (0, 0), (1, 0), (0, 0), (1, 0), (1, 0), (1, 0), (0, 0), (1, 0), (0, 0), (1, 0), (0, 0), (1, 0), (0, 0), (1, 0), (1, 0), (1, 0), (0, 0), (1, 0), (0, 0), (1, 0), (0, 0), (1, 0), (0, 0), (1, 0), (1, 0), (1, 0), (1, 0), (0, 0), (1, 0), (0, 0), (1, 0), (1, 0), (1, 0), (1, 0), (0, 0), (1, 0), (0, 0), (1, 0), (1, 0), (1, 0), (0, 0), (1, 0), (1, 0), (0, 0), (1, 0), (0, 0), (1, 0), (0, 0), (1, 0), (0, 0), (0, 0), (1, 0), (1, 0), (0, 0), (1, 0), (0, 0), (1, 0), (0, 0), (1, 0), (0, 0), (1, 0), (1, 0), (1, 0), (1, 0), (0, 0), (1, 0), (0, 0), (1, 0), (1, 0), (1, 0), (0, 0), (0, 0), (1, 0), (1, 0), (1, 0), (0, 0), (1, 0), (1, 0), (1, 0), (0, 0), (1, 0), (0, 0), (0, 0), (1, 0), (0, 0), (1, 0), (1, 0), (1, 0), (0, 0), (1, 0), (0, 0), (1, 0), (1, 0), (0, 0), (0, 0), (0, 0), (1, 0), (0, 0), (0, 0), (1, 0), (0, 0), (1, 0), (0, 0), (1, 0), (0, 0), (1, 0), (0, 0), (1, 0), (1, 0), (1, 0), (0, 0), (1, 0), (1, 0), (0, 0), (1, 0), (0, 0), (1, 0), (1, 0), (1, 0), (1, 0), (1, 0), (1, 0), (0, 0), (1, 0), (0, 0), (1, 0), (1, 0), (0, 0), (1, 0), (1, 0), (1, 0), (0, 0), (1, 0), (0, 0), (1, 0), (1, 0), (1, 0), (1, 0), (1, 0), (0, 0), (1, 0), (0, 0), (0, 0), (0, 0), (1, 0), (0, 0), (0, 0), (1, 0), (0, 0), (0, 0), (0, 0), (0, 0), (1, 0), (1, 0), (1, 0), (0, 0), (1, 0), (0, 0), (1, 0), (0, 0), (1, 0), (0, 0), (1, 0), (1, 0), (1, 0), (1, 0), (0, 0), (1, 0), (0, 0), (1, 0), (1, 0), (1, 0), (0, 0), (0, 0), (0, 0), (1, 0), (0, 0), (1, 0), (1, 0), (0, 0), (1, 0), (0, 0), (1, 0), (1, 0), (1, 0), (1, 0), (0, 0), (1, 0), (0, 0), (1, 0), (1, 0), (0, 0), (1, 0), (0, 0), (1, 0), (1, 0), (1, 0), (0, 0), (0, 0), (0, 0), (1, 0), (0, 0), (0, 0), (0, 0), (0, 0), (1, 0), (0, 0), (1, 0), (1, 0), (0, 0), (1, 0), (0, 0), (1, 0), (1, 0), (1, 0), (1, 0), (1, 0), (1, 0), (1, 0), (1, 0), (0, 0), (1, 0), (0, 0), (0, 0), (1, 0), (0, 0), (0, 0), (0, 0), (0, 0), (0, 0), (0, 0), (0, 0), (0, 0), (1, 0), (0, 0), (1, 0), (1, 0), (0, 0), (0, 0), (1, 0), (0, 0), (1, 0), (1, 0), (0, 0), (1, 0), (0, 0), (1, 0), (0, 0), (1, 0), (0, 0), (0, 0), (0, 0), (1, 0), (0, 0), (1, 0), (1, 0), (1, 0), (1, 0), (0, 0), (0, 0), (1, 0), (0, 0), (0, 0), (1, 0), (1, 0), (0, 0), (1, 0), (0, 0), (1, 0), (1, 0), (1, 0), (1, 0), (1, 0), (1, 0), (0, 0), (1, 0), (0, 0), (1, 0), (1, 0), (1, 0), (1, 0), (1, 0), (1, 0), (1, 0), (1, 0), (1, 0), (1, 0), (1, 0), (1, 0), (0, 0), (1, 0), (0, 0), (0, 0), (1, 0), (0, 0), (1, 0), (0, 0), (1, 0), (0, 0), (1, 0), (0, 0), (1, 0), (0, 0), (1, 0), (1, 0), (1, 0), (1, 0), (0, 0), (1, 0), (0, 0), (1, 0), (0, 0), (0, 0), (1, 0), (1, 0), (1, 0), (1, 0), (1, 0), (1, 0), (1, 0), (1, 0), (1, 0), (1, 0), (1, 0), (1, 0), (1, 0), (1, 0), (1, 0), (1, 0), (1, 0), (1, 0), (1, 0), (1, 0), (1, 0), (1, 0), (1, 0), (1, 0), (1, 0), (1, 0), (1, 0), (1, 0), (1, 0), (1, 0), (1, 0), (1, 0), (1, 0), (1, 0), (1, 0), (1, 0), (1, 0), (0, 0), (1, 0), (0, 0), (1, 0), (1, 0), (1, 0), (1, 0), (1, 0), (1, 0), (1, 0), (1, 0), (1, 0), (1, 0), (0, 0), (1, 0), (0, 0), (1, 0), (1, 0), (1, 0), (1, 0), (0, 0), (1, 0), (0, 0), (0, 0), (1, 0), (0, 0), (1, 0), (1, 0), (1, 0), (0, 0), (1, 0), (0, 0), (1, 0), (1, 0), (1, 0), (0, 0), (1, 0), (0, 0), (1, 0), (1, 0), (1, 0), (1, 0), (1, 0), (0, 0), (1, 0), (0, 0), (1, 0), (0, 0), (1, 0), (0, 0), (0, 0), (1, 0), (0, 0), (1, 0), (0, 0), (1, 0), (0, 0), (1, 0), (0, 0), (1, 0), (0, 0), (1, 0), (1, 0), (0, 0), (1, 0), (0, 0), (1, 0), (1, 0), (0, 0), (1, 0), (0, 0), (1, 0), (1, 0), (0, 0), (0, 0), (1, 0), (0, 0), (1, 0), (0, 0), (1, 0), (0, 0), (1, 0), (0, 0), (1, 0), (1, 0), (0, 0), (1, 0), (0, 0), (0, 0), (0, 0), (1, 0), (0, 0), (1, 0), (1, 0), (1, 0), (1, 0), (0, 0), (1, 0), (0, 0), (1, 0), (1, 0), (1, 0), (1, 0), (0, 0), (1, 0), (0, 0), (0, 0), (1, 0), (0, 0), (1, 0), (0, 0), (0, 0), (0, 0), (0, 0), (1, 0), (0, 0), (1, 0), (0, 0), (1, 0), (1, 0), (0, 0), (1, 0), (0, 0), (1, 0), (1, 0), (0, 0), (1, 0), (0, 0), (0, 0), (0, 0), (0, 0), (0, 0), (1, 0), (0, 0), (1, 0), (0, 0), (0, 0), (1, 0), (0, 0), (0, 0), (0, 0), (1, 0), (0, 0), (0, 0), (0, 0), (0, 0), (1, 0), (0, 0), (0, 0), (0, 0), (1, 0), (0, 0), (0, 0), (0, 0), (0, 0), (1, 0), (0, 0), (0, 0), (1, 0), (0, 0), (1, 0), (0, 0), (0, 0), (1, 0), (0, 0), (1, 0), (0, 0), (0, 0), (0, 0), (1, 0), (0, 0), (1, 0), (0, 0), (1, 0), (0, 0), (0, 0), (0, 0), (1, 0), (0, 0), (1, 0), (0, 0), (1, 0), (0, 0), (1, 0), (0, 0), (1, 0), (0, 0), (0, 0), (0, 0), (1, 0), (0, 0), (1, 0), (0, 0), (1, 0), (0, 0), (0, 0), (1, 0), (0, 0), (1, 0), (1, 0), (0, 0), (1, 0), (0, 0), (1, 0), (0, 0), (0, 0), (1, 0), (0, 0), (0, 0), (1, 0), (1, 0), (0, 0), (1, 0), (0, 0), (1, 0), (0, 0), (0, 0), (0, 0), (1, 0), (0, 0), (0, 0), (1, 0), (0, 0), (0, 0), (0, 0), (0, 0), (1, 0), (0, 0), (1, 0), (0, 0), (0, 0), (0, 0), (0, 0), (1, 0), (0, 0), (0, 0), (0, 0), (0, 0), (0, 0), (0, 0), (1, 0), (0, 0), (0, 0), (0, 0), (0, 0), (1, 0), (0, 0), (1, 0), (0, 0), (1, 0), (0, 0), (0, 0), (0, 0), (1, 0), (0, 0), (0, 0), (0, 0), (0, 0), (1, 0), (1, 0), (1, 0), (0, 0), (1, 0), (0, 0), (1, 0), (0, 0), (0, 0), (1, 0), (1, 0), (0, 0), (1, 0), (0, 0), (0, 0), (0, 0), (0, 0), (0, 0), (1, 0), (0, 0), (0, 0), (0, 0), (1, 0), (0, 0), (1, 0), (0, 0), (0, 0), (1, 0), (0, 0), (0, 0), (1, 0), (0, 0), (1, 0), (0, 0), (0, 0), (1, 0), (0, 0), (0, 0), (1, 0), (0, 0), (0, 0), (0, 0), (1, 0), (0, 0), (1, 0), (1, 0), (1, 0), (1, 0), (0, 0), (1, 0), (0, 0), (1, 0), (1, 0), (0, 0), (1, 0), (0, 0), (1, 0), (0, 0), (1, 0), (0, 0), (1, 0), (0, 0), (0, 0), (1, 0), (0, 0), (0, 0), (0, 0), (1, 0), (0, 0), (1, 0), (1, 0), (1, 0), (0, 0), (1, 0), (0, 0), (1, 0), (0, 0), (1, 0), (0, 0), (1, 0), (1, 0), (0, 0), (1, 0), (1, 0), (0, 0), (0, 0), (0, 0), (0, 0), (0, 0), (0, 0), (0, 0), (0, 0), (1, 0), (0, 0), (0, 0), (0, 0), (1, 0), (1, 0), (1, 0), (1, 0), (1, 0), (0, 0), (1, 0), (0, 0), (0, 0), (1, 0), (0, 0), (0, 0), (1, 0), (0, 0), (1, 0), (1, 0), (1, 0), (1, 0), (1, 0), (1, 0), (0, 0), (1, 0), (0, 0), (1, 0), (1, 0), (0, 0), (1, 0), (0, 0), (1, 0), (1, 0), (0, 0), (0, 0), (1, 0), (0, 0), (1, 0), (1, 0), (1, 0), (1, 0), (1, 0), (0, 0), (0, 0), (0, 0), (1, 0), (1, 0), (0, 0), (1, 0), (0, 0), (1, 0), (0, 0), (1, 0), (1, 0), (0, 0), (1, 0), (1, 0), (1, 0), (1, 0), (1, 0), (0, 0), (1, 0), (1, 0), (0, 0), (1, 0), (0, 0), (1, 0), (1, 0), (0, 0), (1, 0), (0, 0), (1, 0), (1, 0), (1, 0), (0, 0), (1, 0), (0, 0), (1, 0), (1, 0), (0, 0), (1, 0), (0, 0), (1, 0), (1, 0), (1, 0), (1, 0), (1, 0), (0, 0), (0, 0), (0, 0), (0, 0), (1, 0), (0, 0), (0, 0), (1, 0), (0, 0), (1, 0), (0, 0), (0, 0), (1, 0), (1, 0), (0, 0), (1, 0), (0, 0), (0, 0), (0, 0), (0, 0), (1, 0), (0, 0), (1, 0), (1, 0), (0, 0), (0, 0), (1, 0), (0, 0), (1, 0), (0, 0), (1, 0), (0, 0), (1, 0), (0, 0), (0, 0), (1, 0), (0, 0), (1, 0), (1, 0), (1, 0), (1, 0), (0, 0), (1, 0), (0, 0), (1, 0), (1, 0), (1, 0), (1, 0), (1, 0), (0, 0), (1, 0), (0, 0), (0, 0), (1, 0), (0, 0), (1, 0), (0, 0), (0, 0), (0, 0), (1, 0), (0, 0), (1, 0), (0, 0), (0, 0), (0, 0), (1, 0), (0, 0), (0, 0), (0, 0), (0, 0), (1, 0), (0, 0), (0, 0), (1, 0), (0, 0), (1, 0), (0, 0), (0, 0), (1, 0), (0, 0), (1, 0), (0, 0), (1, 0), (0, 0), (1, 0), (1, 0), (1, 0), (0, 0), (0, 0), (0, 0), (0, 0), (0, 0), (1, 0), (0, 0), (1, 0), (0, 0), (0, 0), (0, 0), (0, 0), (0, 0), (1, 0), (0, 0), (1, 0), (0, 0), (0, 0), (1, 0), (0, 0), (0, 0), (0, 0), (0, 0), (1, 0), (0, 0), (0, 0), (1, 0), (0, 0), (0, 0), (1, 0), (0, 0), (1, 0), (0, 0), (0, 0), (0, 0), (0, 0), (1, 0), (0, 0), (0, 0), (0, 0), (1, 0), (0, 0), (0, 0), (1, 0), (0, 0), (0, 0), (0, 0), (0, 0), (0, 0), (0, 0), (1, 0), (1, 0), (0, 0), (1, 0), (0, 0), (1, 0), (1, 0), (0, 0), (0, 0), (0, 0), (1, 0), (0, 0), (0, 0), (0, 0), (0, 0), (1, 0), (1, 0), (1, 0), (0, 0), (0, 0), (0, 0), (0, 0), (1, 0), (0, 0), (0, 0), (0, 0), (0, 0), (0, 0), (0, 0), (0, 0), (0, 0), (0, 0), (0, 0), (0, 0), (0, 0), (1, 0), (0, 0), (0, 0), (0, 0), (0, 0), (0, 0), (0, 0), (0, 0), (0, 0), (1, 0), (0, 0), (1, 0), (0, 0), (1, 0), (0, 0), (0, 0), (1, 0), (0, 0), (0, 0), (0, 0), (0, 0), (0, 0), (1, 0), (0, 0), (0, 0), (0, 0), (1, 0), (0, 0), (1, 0), (0, 0), (1, 0), (0, 0), (0, 0), (0, 0), (0, 0), (1, 0), (0, 0), (1, 0), (0, 0), (0, 0), (0, 0), (0, 0), (0, 0), (0, 0), (0, 0), (1, 0), (0, 0), (0, 0), (0, 0), (0, 0), (1, 0), (0, 0), (0, 0), (0, 0), (0, 0), (1, 0), (0, 0), (1, 0), (0, 0), (0, 0), (1, 0), (0, 0), (1, 0), (0, 0), (0, 0), (1, 0), (0, 0), (1, 0), (0, 0), (0, 0), (1, 0), (0, 0), (1, 0), (0, 0), (0, 0), (1, 0), (0, 0), (1, 0), (0, 0), (0, 0), (1, 0), (0, 0), (0, 0), (0, 0), (0, 0), (1, 0), (0, 0), (1, 0), (0, 0), (0, 0), (1, 0), (0, 0), (0, 0), (0, 0), (0, 0), (1, 0), (0, 0), (1, 0), (0, 0), (0, 0), (1, 0), (0, 0), (1, 0), (1, 0), (0, 0), (1, 0), (0, 0), (0, 0), (0, 0), (0, 0), (1, 0), (0, 0), (1, 0), (0, 0), (1, 0), (0, 0), (1, 0), (1, 0), (0, 0), (1, 0), (0, 0), (1, 0), (1, 0), (0, 0), (1, 0), (0, 0), (1, 0), (0, 0), (0, 0), (1, 0), (0, 0), (0, 0), (0, 0), (0, 0), (1, 0), (0, 0), (1, 0), (0, 0), (1, 0), (1, 0), (1, 0), (0, 0), (0, 0), (0, 0), (0, 0), (0, 0), (1, 0), (0, 0), (0, 0), (0, 0), (1, 0), (0, 0), (1, 0), (0, 0), (1, 0), (0, 0), (1, 0), (0, 0), (0, 0), (0, 0), (0, 0), (0, 0), (0, 0), (1, 0), (0, 0), (0, 0), (0, 0), (0, 0), (0, 0), (0, 0), (1, 0), (0, 0), (0, 0), (1, 0), (0, 0), (0, 0), (1, 0), (0, 0), (1, 0), (1, 0), (0, 0), (0, 0), (0, 0), (1, 0), (1, 0), (0, 0), (1, 0), (0, 0), (1, 0), (0, 0), (0, 0), (0, 0), (0, 0), (1, 0), (0, 0), (1, 0), (0, 0), (1, 0), (0, 0), (0, 0), (1, 0), (0, 0), (0, 0), (0, 0), (0, 0), (0, 0), (0, 0), (1, 0), (0, 0), (0, 0), (1, 0), (0, 0), (0, 0), (0, 0), (0, 0), (1, 0), (0, 0), (1, 0), (0, 0), (1, 0), (0, 0), (0, 0), (0, 0), (1, 0), (0, 0), (0, 0), (0, 0), (1, 0), (0, 0), (1, 0), (0, 0), (1, 0), (0, 0), (1, 0), (0, 0), (0, 0), (0, 0), (1, 0), (0, 0), (1, 0), (0, 0), (0, 0), (1, 0), (0, 0), (1, 0), (1, 0), (0, 0), (0, 0), (0, 0), (0, 0), (0, 0), (0, 0), (1, 0), (0, 0), (1, 0), (0, 0), (1, 0), (0, 0), (1, 0), (0, 0), (1, 0), (0, 0), (1, 0), (0, 0), (0, 0), (0, 0), (0, 0), (1, 0), (0, 0), (1, 0), (0, 0), (0, 0), (1, 0), (0, 0), (1, 0), (0, 0), (0, 0), (0, 0), (0, 0), (0, 0), (1, 0), (1, 0), (0, 0), (0, 0), (0, 0), (0, 0), (0, 0), (0, 0), (0, 0), (0, 0), (0, 0), (0, 0), (1, 0), (0, 0), (1, 0), (0, 0), (0, 0), (1, 0), (0, 0), (1, 0), (0, 0), (0, 0), (0, 0), (1, 0), (1, 0), (0, 0), (1, 0), (1, 0), (1, 0), (1, 0), (0, 0), (0, 0), (0, 0), (0, 0), (1, 0), (0, 0), (1, 0), (0, 0), (1, 0), (0, 0), (0, 0), (0, 0), (0, 0), (0, 0), (0, 0), (1, 0), (1, 0), (1, 0), (0, 0), (1, 0), (0, 0), (1, 0), (0, 0), (1, 0), (1, 0), (1, 0), (1, 0), (1, 0), (1, 0), (0, 0), (0, 0), (0, 0), (0, 0), (0, 0), (1, 0), (0, 0), (1, 0), (0, 0), (1, 0), (0, 0), (0, 0), (0, 0), (0, 0), (1, 0), (1, 0), (0, 0), (0, 0), (0, 0), (0, 0), (0, 0), (0, 0), (0, 0), (0, 0), (0, 0), (0, 0), (1, 0), (1, 0), (0, 0), (0, 0), (0, 0), (1, 0), (0, 0), (1, 0), (1, 0), (0, 0), (0, 0), (1, 0), (1, 0), (0, 0), (0, 0), (0, 0), (0, 0), (1, 0), (0, 0), (1, 0), (0, 0), (0, 0), (0, 0), (1, 0), (0, 0), (0, 0), (1, 0), (1, 1), (1, 1), (1, 1), (1, 1), (1, 1), (1, 1), (1, 1), (1, 1), (1, 1), (0, 1), (1, 1), (1, 1), (1, 1), (1, 1), (1, 1), (1, 1), (1, 1), (1, 1), (1, 1), (1, 1), (1, 1), (1, 1), (1, 1), (1, 1), (1, 1), (1, 1), (1, 1), (1, 1), (1, 1), (1, 1), (1, 1), (1, 1), (1, 1), (1, 1), (1, 1), (1, 1), (0, 1), (1, 1), (1, 1), (1, 1), (1, 1), (1, 1), (1, 1), (1, 1), (1, 1), (1, 1), (1, 1), (1, 1), (1, 1), (1, 1), (1, 1), (1, 1), (1, 1), (1, 1), (1, 1), (0, 1), (1, 1), (1, 1), (1, 1), (1, 1), (1, 1), (1, 1), (0, 1), (1, 1), (1, 1), (1, 1), (1, 1), (1, 1), (0, 1), (1, 1), (1, 1), (1, 1), (1, 1), (1, 1), (1, 1), (1, 1), (1, 1), (1, 1), (1, 1), (1, 1), (1, 1), (1, 1), (1, 1), (1, 1), (1, 1), (1, 1), (1, 1), (1, 1), (1, 1), (1, 1), (1, 1), (1, 1), (1, 1), (1, 1), (1, 1), (1, 1), (1, 1), (1, 1), (1, 1), (1, 1), (1, 1), (1, 1), (1, 1), (1, 1), (0, 1), (1, 1), (1, 1), (1, 1), (1, 1), (1, 1), (1, 1), (1, 1), (1, 1), (1, 1), (1, 1), (1, 1), (1, 1), (1, 1), (1, 1), (0, 1), (0, 1), (1, 1), (1, 1), (1, 1), (0, 1), (1, 1), (1, 1), (1, 1), (1, 1), (1, 1), (1, 1), (1, 1), (0, 1), (1, 1), (1, 1), (1, 1), (1, 1), (1, 1), (0, 1), (1, 1), (1, 1), (1, 1), (1, 1), (1, 1), (1, 1), (0, 1), (1, 1), (1, 1), (1, 1), (1, 1), (1, 1), (1, 1), (1, 1), (1, 1), (1, 1), (1, 1), (1, 1), (1, 1), (1, 1), (1, 1), (1, 1), (1, 1), (1, 1), (1, 1), (1, 1), (1, 1), (1, 1), (1, 1), (1, 1), (1, 1), (1, 1), (1, 1), (1, 1), (1, 1), (1, 1), (1, 1), (1, 1), (1, 1), (1, 1), (1, 1), (1, 1), (1, 1), (1, 1), (1, 1), (1, 1), (1, 1), (1, 1), (1, 1), (1, 1), (1, 1), (1, 1), (1, 1), (1, 1), (1, 1), (1, 1), (1, 1), (1, 1), (1, 1), (1, 1), (1, 1), (1, 1), (1, 1), (1, 1), (1, 1), (0, 1), (1, 1), (0, 1), (1, 1), (1, 1), (0, 1), (1, 1), (1, 1), (0, 1), (1, 1), (0, 1), (1, 1), (0, 1), (1, 1), (0, 1), (1, 1), (0, 1), (1, 1), (0, 1), (1, 1), (0, 1), (1, 1), (0, 1), (1, 1), (1, 1), (1, 1), (1, 1), (1, 1), (1, 1), (1, 1), (1, 1), (1, 1), (0, 1), (1, 1), (1, 1), (1, 1), (1, 1), (1, 1), (1, 1), (1, 1), (1, 1), (0, 1), (1, 1), (1, 1), (1, 1), (0, 1), (1, 1), (0, 1), (1, 1), (1, 1), (1, 1), (1, 1), (1, 1), (1, 1), (1, 1), (0, 1), (1, 1), (0, 1), (1, 1), (1, 1), (1, 1), (1, 1), (0, 1), (1, 1), (0, 1), (1, 1), (1, 1), (1, 1), (1, 1), (1, 1), (1, 1), (1, 1), (1, 1), (1, 1), (1, 1), (1, 1), (1, 1), (1, 1), (1, 1), (0, 1), (1, 1), (1, 1), (1, 1), (1, 1), (1, 1), (1, 1), (1, 1), (1, 1), (1, 1), (1, 1), (1, 1), (1, 1), (1, 1), (1, 1), (1, 1), (1, 1), (1, 1), (0, 1), (1, 1), (0, 1), (1, 1), (1, 1), (1, 1), (1, 1), (1, 1), (1, 1), (1, 1), (0, 1), (1, 1), (1, 1), (0, 1), (1, 1), (1, 1), (1, 1), (1, 1), (1, 1), (1, 1), (1, 1), (1, 1), (1, 1), (1, 1), (1, 1), (1, 1), (1, 1), (1, 1), (0, 1), (1, 1), (1, 1), (1, 1), (1, 1), (1, 1), (0, 1), (1, 1), (1, 1), (1, 1), (1, 1), (1, 1), (1, 1), (0, 1), (1, 1), (1, 1), (1, 1), (1, 1), (1, 1), (0, 1), (1, 1), (0, 1), (1, 1), (1, 1), (1, 1), (1, 1), (1, 1), (1, 1), (0, 1), (1, 1), (1, 1), (1, 1), (1, 1), (1, 1), (1, 1), (1, 1), (0, 1), (1, 1), (0, 1), (1, 1), (0, 1), (1, 1), (0, 1), (1, 1), (0, 1), (1, 1), (0, 1), (1, 1), (1, 1), (1, 1), (1, 1), (1, 1), (0, 1), (1, 1), (0, 1), (1, 1), (1, 1), (1, 1), (1, 1), (1, 1), (1, 1), (1, 1), (1, 1), (1, 1), (1, 1), (1, 1), (1, 1), (1, 1), (1, 1), (1, 1), (1, 1), (1, 1), (1, 1), (1, 1), (1, 1), (1, 1), (0, 1), (1, 1), (1, 1), (1, 1), (1, 1), (1, 1), (1, 1), (1, 1), (1, 1), (1, 1), (1, 1), (1, 1), (1, 1), (1, 1), (1, 1), (1, 1), (1, 1), (1, 1), (1, 1), (1, 1), (1, 1), (1, 1), (1, 1), (1, 1), (1, 1), (1, 1), (1, 1), (1, 1), (1, 1), (1, 1), (1, 1), (1, 1), (0, 1), (1, 1), (0, 1), (1, 1)]\n"
          ]
        }
      ]
    },
    {
      "cell_type": "code",
      "metadata": {
        "colab": {
          "base_uri": "https://localhost:8080/"
        },
        "id": "GK9FX6A_dbFX",
        "outputId": "01796d40-7236-4c28-d779-469fd31fc14b"
      },
      "source": [
        "import sklearn.metrics as sm\n",
        "sm.roc_auc_score(labels,preds)"
      ],
      "execution_count": null,
      "outputs": [
        {
          "output_type": "execute_result",
          "data": {
            "text/plain": [
              "0.6921687335221169"
            ]
          },
          "metadata": {},
          "execution_count": 33
        }
      ]
    },
    {
      "cell_type": "code",
      "metadata": {
        "colab": {
          "base_uri": "https://localhost:8080/"
        },
        "id": "klJXUMDefCY0",
        "outputId": "f87a9090-9b5a-4bed-85d0-6685f5bfb1e9"
      },
      "source": [
        "sm.f1_score(labels,preds)"
      ],
      "execution_count": null,
      "outputs": [
        {
          "output_type": "execute_result",
          "data": {
            "text/plain": [
              "0.4406587166382737"
            ]
          },
          "metadata": {},
          "execution_count": 35
        }
      ]
    },
    {
      "cell_type": "code",
      "metadata": {
        "id": "sOw6WCsJfvS3"
      },
      "source": [
        "def perf_measure(y_actual, y_hat):\n",
        "    TP = 0\n",
        "    FP = 0\n",
        "    TN = 0\n",
        "    FN = 0\n",
        "\n",
        "    for i in range(len(y_hat)): \n",
        "        if y_actual[i]==y_hat[i]==1:\n",
        "           TP += 1\n",
        "        if y_hat[i]==1 and y_actual[i]!=y_hat[i]:\n",
        "           FP += 1\n",
        "        if y_actual[i]==y_hat[i]==0:\n",
        "           TN += 1\n",
        "        if y_hat[i]==0 and y_actual[i]!=y_hat[i]:\n",
        "           FN += 1\n",
        "\n",
        "    return(TP, FP, TN, FN)"
      ],
      "execution_count": null,
      "outputs": []
    },
    {
      "cell_type": "code",
      "metadata": {
        "colab": {
          "base_uri": "https://localhost:8080/"
        },
        "id": "NLa55kA0gxCW",
        "outputId": "fbaefe5f-bee5-495c-c89c-45cd63e5489e"
      },
      "source": [
        "perf_measure(labels,preds)"
      ],
      "execution_count": null,
      "outputs": [
        {
          "output_type": "execute_result",
          "data": {
            "text/plain": [
              "(388, 932, 949, 53)"
            ]
          },
          "metadata": {},
          "execution_count": 37
        }
      ]
    },
    {
      "cell_type": "code",
      "metadata": {
        "colab": {
          "base_uri": "https://localhost:8080/"
        },
        "id": "Wyyl3d0fjLtf",
        "outputId": "5dc910f9-5512-4a60-f4fb-b6fba8c0aac5"
      },
      "source": [
        "sm.balanced_accuracy_score(labels,preds)"
      ],
      "execution_count": null,
      "outputs": [
        {
          "output_type": "execute_result",
          "data": {
            "text/plain": [
              "0.6921687335221169"
            ]
          },
          "metadata": {},
          "execution_count": 39
        }
      ]
    },
    {
      "cell_type": "code",
      "metadata": {
        "id": "mNsKwN2HjNYZ"
      },
      "source": [
        ""
      ],
      "execution_count": null,
      "outputs": []
    }
  ]
}